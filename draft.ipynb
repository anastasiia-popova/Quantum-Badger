{
 "cells": [
  {
   "cell_type": "code",
   "execution_count": null,
   "id": "822f65bc-6957-45fc-b82e-4c64e537255e",
   "metadata": {},
   "outputs": [],
   "source": [
    "from quantum_badger import *\n",
    "\n",
    "import pandas as pd\n",
    "\n",
    "import matplotlib.pyplot as plt\n",
    "%matplotlib inline\n",
    "%config InlineBackend.figure_formats=['svg'] \n",
    "\n",
    "\n",
    "from numba import njit"
   ]
  },
  {
   "cell_type": "code",
   "execution_count": null,
   "id": "c59614bd-5445-499c-acc0-a21745d1ed0e",
   "metadata": {},
   "outputs": [],
   "source": [
    "# Data moments \n",
    "\n",
    "# moment_0 = (Z_v_0f[:]/Z_v_0[0]).real\n",
    "# moment_1 = data_mom[:, 0]\n",
    "# moment_2 = data_mom[:, 1]\n",
    "# moment_3 = data_mom[:, 2]\n",
    "# moment_4 = data_mom[:, 3]\n",
    "\n",
    "# # Model moments\n",
    "\n",
    "# import scipy.stats as sts\n",
    "# import scipy.integrate as intgr\n",
    "# import scipy.optimize as opt\n",
    "\n",
    "# xfx = lambda x: x * moment_0 * gauss_fun(x, moment_1, moment_2)\n",
    "\n",
    "# xfx(1)\n",
    "# (mean_model, m_m_err) = intgr.quad(xfx, -np.inf, cutoff)\n",
    "# x2fx = lambda x: ((x - mean_model) ** 2) * trunc_norm_pdf(x, mu, sigma, cutoff) \n",
    "# (var_model, v_m_err) = intgr.quad(x2fx, -np.inf, cutoff)\n",
    "\n"
   ]
  }
 ],
 "metadata": {
  "kernelspec": {
   "display_name": "Python 3 (ipykernel)",
   "language": "python",
   "name": "python3"
  },
  "language_info": {
   "codemirror_mode": {
    "name": "ipython",
    "version": 3
   },
   "file_extension": ".py",
   "mimetype": "text/x-python",
   "name": "python",
   "nbconvert_exporter": "python",
   "pygments_lexer": "ipython3",
   "version": "3.9.13"
  }
 },
 "nbformat": 4,
 "nbformat_minor": 5
}
