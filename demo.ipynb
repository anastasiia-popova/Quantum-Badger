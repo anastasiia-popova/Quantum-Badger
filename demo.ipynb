{
 "cells": [
  {
   "cell_type": "code",
   "execution_count": 1,
   "id": "9ed0f6b2-48b2-46d5-8d98-100ab4abf64a",
   "metadata": {
    "tags": []
   },
   "outputs": [],
   "source": [
    "from quantum_badger import *\n",
    "import matplotlib.pyplot as plt\n",
    "%matplotlib inline\n",
    "%config InlineBackend.figure_formats=['svg'] \n",
    "\n",
    "import pandas as pd\n",
    "\n",
    "colors = ['#8ECAE6', '#219EBC', '#023047', '#FFCB47', '#FFB703', '#FB8500', '#BB0A21']\n",
    "\n",
    "from numba import njit\n"
   ]
  },
  {
   "cell_type": "markdown",
   "id": "0cabe0b9-6044-46a9-99a8-e33151897cf6",
   "metadata": {
    "tags": []
   },
   "source": [
    "## Initialize the Gaussian Boson Sampling Emulator"
   ]
  },
  {
   "cell_type": "code",
   "execution_count": 2,
   "id": "62f711b1-6242-4992-86ef-4c3118fb0ada",
   "metadata": {
    "tags": []
   },
   "outputs": [],
   "source": [
    "path = return_path(filename='demo.ipynb')"
   ]
  },
  {
   "cell_type": "code",
   "execution_count": null,
   "id": "664775d9-e95a-4d72-a554-aa0c46a657d7",
   "metadata": {
    "tags": []
   },
   "outputs": [],
   "source": [
    "# Set the GBS device parameters\n",
    "\n",
    "random.seed(42)\n",
    "\n",
    "# Number of modes \n",
    "m = 8\n",
    "# Number of input squeezed states\n",
    "n = round(m/2) \n",
    "# Squeezing parameter of the input squeezed vacuum states\n",
    "r = 1.6\n",
    "\n",
    "# Number of beam splitters \n",
    "n_BS = m**2\n",
    "\n",
    "r_, phi_ = input_state(r, m, n) \n",
    "A = set_input(r_, phi_, path)\n",
    "U = get_random_interferometer(m, n_BS, path)\n",
    "\n",
    "# or \n",
    "# U = import_interferometer(path, '/matrix_U.dat') \n",
    "\n",
    "M = set_device_parameters(r, A, U, path)\n",
    "# or \n",
    "# M, m, n, r, n_cutoff, n_mc, batch_size = import_input(path, \"/GBS_matrix.dat\")\n",
    "\n",
    "# Tests\n",
    "#check_set_parameters(U,M)"
   ]
  },
  {
   "cell_type": "code",
   "execution_count": 7,
   "id": "0fe95da6-d7f0-432f-b084-ad54b9593733",
   "metadata": {},
   "outputs": [
    {
     "name": "stdout",
     "output_type": "stream",
     "text": [
      "Data were imported from /Users/anastasiacertkova/Desktop/Coding/GBS_matrix.dat\n"
     ]
    }
   ],
   "source": [
    "M, m, n, r, n_cutoff, n_mc, batch_size = import_input(path, \"/GBS_matrix.dat\")"
   ]
  },
  {
   "cell_type": "code",
   "execution_count": null,
   "id": "b0b811fd-d375-4f5b-9a73-728b3433a1fe",
   "metadata": {
    "tags": []
   },
   "outputs": [],
   "source": [
    "error = 0.05\n",
    "\n",
    "ind, phi, psi, eta = import_parameters_interferometer(path, '/parameters_of_interferometer.dat')\n",
    "U_appr = interferometer_approx(n_BS, ind, phi, psi, eta, error,  m)\n",
    "\n",
    "print(\"Frobenius distance between U and U_appr:\", round(frobenius_distance(U, U_appr),2) )"
   ]
  },
  {
   "cell_type": "code",
   "execution_count": null,
   "id": "9140481d-df1f-4953-99ce-dd521a62a160",
   "metadata": {
    "tags": []
   },
   "outputs": [],
   "source": [
    "batch_size = 10 \n",
    "samples = uniform_sampling_tr(batch_size,n,m)\n",
    "samples"
   ]
  },
  {
   "cell_type": "code",
   "execution_count": null,
   "id": "dcee7f29-aeb9-4f7e-81c5-13efe764edf1",
   "metadata": {},
   "outputs": [],
   "source": [
    "export_samples(samples, path, \"/samples.dat\")"
   ]
  },
  {
   "cell_type": "code",
   "execution_count": 3,
   "id": "661f1626-2e80-4595-967a-c014b57851fd",
   "metadata": {},
   "outputs": [
    {
     "data": {
      "text/plain": [
       "[[1, 1, 0, 1, 0, 1, 0, 0],\n",
       " [1, 0, 1, 0, 0, 0, 1, 1],\n",
       " [0, 0, 1, 0, 1, 1, 0, 1],\n",
       " [0, 0, 1, 0, 1, 1, 1, 0],\n",
       " [1, 1, 1, 0, 0, 0, 0, 1],\n",
       " [1, 0, 0, 0, 1, 0, 1, 1],\n",
       " [0, 0, 1, 0, 0, 1, 1, 1],\n",
       " [1, 0, 0, 0, 1, 0, 1, 1],\n",
       " [0, 1, 1, 0, 1, 0, 1, 0],\n",
       " [1, 0, 0, 1, 0, 1, 0, 1]]"
      ]
     },
     "execution_count": 3,
     "metadata": {},
     "output_type": "execute_result"
    }
   ],
   "source": [
    "samples = import_samples(path, \"/samples.dat\")\n",
    "samples"
   ]
  },
  {
   "cell_type": "markdown",
   "id": "aa9f7c97-f5bf-4cc5-863e-8ff980b3a962",
   "metadata": {},
   "source": [
    "## Run the Gaussian Boson Sampling Emulator"
   ]
  },
  {
   "cell_type": "code",
   "execution_count": null,
   "id": "ada6225b-0f99-4150-b590-03a24c03ba4c",
   "metadata": {},
   "outputs": [],
   "source": [
    "%%bash\n",
    "\n",
    "stat"
   ]
  },
  {
   "cell_type": "code",
   "execution_count": null,
   "id": "486f82e2-dd1c-4d85-ab1e-497e597043b7",
   "metadata": {},
   "outputs": [],
   "source": [
    "# cmd = \"python3 \" path + r\"GBS.py\" \n",
    "# call(cmd.split(\" \"))"
   ]
  },
  {
   "cell_type": "markdown",
   "id": "65fc3dde-5f34-47ed-b8eb-b153f6cf3d89",
   "metadata": {},
   "source": [
    "## Compute probabilities exactly"
   ]
  },
  {
   "cell_type": "code",
   "execution_count": null,
   "id": "ea3da8e7-3d3e-4dbe-8f6a-c2d28b910aae",
   "metadata": {},
   "outputs": [],
   "source": [
    "# samples, probabilities = import_gbs_samples(path)"
   ]
  },
  {
   "cell_type": "code",
   "execution_count": 8,
   "id": "f2128807-a266-4d26-9753-44d6e377cfff",
   "metadata": {},
   "outputs": [],
   "source": [
    "probabilities_exact = []\n",
    "\n",
    "for s in samples:\n",
    "    \n",
    "    probabilities_exact.append(prob_exact(s, M))"
   ]
  },
  {
   "cell_type": "code",
   "execution_count": 9,
   "id": "6552b689-e40d-42e5-9d11-65f678f8ba6a",
   "metadata": {},
   "outputs": [
    {
     "name": "stdout",
     "output_type": "stream",
     "text": [
      "[1, 1, 0, 1, 0, 1, 0, 0] [0, 1, 3, 5] 0.001540221685623145\n",
      "[1, 0, 1, 0, 0, 0, 1, 1] [0, 2, 6, 7] 0.00038379315780583313\n",
      "[0, 0, 1, 0, 1, 1, 0, 1] [2, 4, 5, 7] 3.2229636431950325e-05\n",
      "[0, 0, 1, 0, 1, 1, 1, 0] [2, 4, 5, 6] 8.449216163451008e-06\n",
      "[1, 1, 1, 0, 0, 0, 0, 1] [0, 1, 2, 7] 0.002032919617881158\n",
      "[1, 0, 0, 0, 1, 0, 1, 1] [0, 4, 6, 7] 0.0002346692656297943\n",
      "[0, 0, 1, 0, 0, 1, 1, 1] [2, 5, 6, 7] 4.571010886750454e-06\n",
      "[1, 0, 0, 0, 1, 0, 1, 1] [0, 4, 6, 7] 0.0002346692656297943\n",
      "[0, 1, 1, 0, 1, 0, 1, 0] [1, 2, 4, 6] 0.0003818290608265405\n",
      "[1, 0, 0, 1, 0, 1, 0, 1] [0, 3, 5, 7] 0.00011005467768718512\n"
     ]
    }
   ],
   "source": [
    "for i in range(len(samples)):\n",
    "    print(samples[i],convert_01_0123(samples[i]), probabilities_exact[i])"
   ]
  },
  {
   "cell_type": "code",
   "execution_count": null,
   "id": "720a1b2b-6fe3-4c32-8144-2bd20b6d59bb",
   "metadata": {},
   "outputs": [],
   "source": []
  },
  {
   "cell_type": "code",
   "execution_count": null,
   "id": "9962556d-9141-4d7d-9f77-03aee569fd68",
   "metadata": {},
   "outputs": [],
   "source": [
    "# Obtain all possible samples for theshold detection\n",
    "all_permutations = threshold_basis_set(m)\n",
    "# Calculate probabilities for all possible samples \n",
    "\n",
    "probabilities_exact = []\n",
    "\n",
    "for s in all_permutations:\n",
    "    probabilities_exact.append(prob_exact(s, M))\n",
    "    \n",
    "\n",
    "# Sum all probabilities to obtain 1 \n",
    "print(\"sum prob:\", sum(probabilities_exact))\n"
   ]
  },
  {
   "cell_type": "code",
   "execution_count": null,
   "id": "f4bb185b-4c8f-4826-866f-cf9408e5a8e2",
   "metadata": {},
   "outputs": [],
   "source": [
    "basis_dictionary = {\n",
    "        str(all_permutations[i]): [sum(all_permutations[i]), probabilities_exact[i]] \n",
    "        for i in range(len(all_permutations))\n",
    "    }"
   ]
  },
  {
   "cell_type": "code",
   "execution_count": null,
   "id": "357f68c1-7121-4f11-b5a3-dbfa3dcda6ed",
   "metadata": {},
   "outputs": [],
   "source": [
    "df_basis = (\n",
    "    pd.DataFrame\n",
    "    .from_dict(basis_dictionary, orient='index', columns=[\"n_clicks\",\"probability_exact\"])\n",
    ")\n",
    "\n",
    "df_basis.index.name = \"sample\"\n"
   ]
  },
  {
   "cell_type": "code",
   "execution_count": null,
   "id": "843eeca0-195f-4dd9-a290-1e79686783b7",
   "metadata": {},
   "outputs": [],
   "source": [
    "df_basis.info()\n",
    "df_basis.head()"
   ]
  },
  {
   "cell_type": "code",
   "execution_count": null,
   "id": "d3c2c9c2-6f28-4362-a142-f5bb6ab2a7ee",
   "metadata": {},
   "outputs": [],
   "source": [
    "# Find probability of a specific sample in DataFrame\n",
    "sample = [0]*m\n",
    "df_basis[\"probability_exact\"].loc[str(sample)] "
   ]
  },
  {
   "cell_type": "code",
   "execution_count": null,
   "id": "75f278a9-db33-407f-907a-88d38764c55c",
   "metadata": {},
   "outputs": [],
   "source": [
    "pmf_values = [sum(df_basis[\"probability_exact\"][df_basis[\"n_clicks\"] == n]) for n in range(m+1)]\n",
    "\n",
    "plt.vlines(\n",
    "    range(m+1), \n",
    "    0,\n",
    "    pmf_values, \n",
    "    color = colors[0],\n",
    "    linestyles='dashed'\n",
    ")\n",
    "\n",
    "plt.plot(\n",
    "    range(m+1), \n",
    "    pmf_values,\n",
    "    'o-',\n",
    "    color = colors[1]\n",
    ")\n",
    "\n",
    "plt.yscale('log')\n",
    "plt.xlabel(\"Number of clicks\", fontsize=12)\n",
    "plt.ylabel(\"Probability mass function\", fontsize=12)\n",
    "plt.title(\"PMF for Gaussian Boson Sampling\", fontsize=17);\n",
    "plt.show()"
   ]
  },
  {
   "cell_type": "code",
   "execution_count": null,
   "id": "d80ad76e-d4f6-40ae-8091-01f79a9f11b8",
   "metadata": {},
   "outputs": [],
   "source": [
    "# Alignment \n",
    "# Create column \"samples_frequency\"\n",
    "# Values should contain the frequencies of imported samples \n",
    "\n",
    "#df_basis[\"probability_exact\"].loc[str(samples[0])]"
   ]
  },
  {
   "cell_type": "code",
   "execution_count": null,
   "id": "23775997-0dbf-4217-af97-9358ba1361df",
   "metadata": {},
   "outputs": [],
   "source": [
    "# Test: comparison exact probabilities with sf for the small problem"
   ]
  },
  {
   "cell_type": "code",
   "execution_count": null,
   "id": "f7b74a13-a55f-4b00-a9e4-0a3eaac9852d",
   "metadata": {},
   "outputs": [],
   "source": [
    "# Compute probabilities for sectors exactly\n",
    "\n",
    "def prob_sectors_exact(M, sample=[1]*len(M), nu_max=10*len(M)):\n",
    "    \n",
    "    \"\"\"\n",
    "    Calculates the exact probabilities over sectors for a given sample \n",
    "    and Gaussian matrix.\n",
    "\n",
    "    Args:\n",
    "        M (numpy.ndarray): The Gaussian matrix for computation.\n",
    "        sample (list, optional): The sample to calculate the probabilities for. Defaults to [1]*len(M).\n",
    "        nu_max (int, optional): The maximum value for the parameter 'nu'. Defaults to 10*len(M).\n",
    "\n",
    "    Returns:\n",
    "        numpy.ndarray: The exact probabilities over sectors for the given sample and Gaussian matrix.\n",
    "\n",
    "        \n",
    "    \"\"\"\n",
    " \n",
    "    \n",
    "    clicked_detectors = convert_01_0123(sample)    \n",
    "    M_sub = red_mat(M, clicked_detectors)\n",
    "\n",
    "    dnu = 2 * np.pi / nu_max\n",
    "    m = len(M_sub)\n",
    "\n",
    "    stat = np.zeros((m + 1, nu_max), dtype=np.complex128)\n",
    "    sectors = np.zeros((m + 1, nu_max), dtype=np.float64)\n",
    "                    \n",
    "    for i in range(m+1):\n",
    "        detect_event = [1 for j in range(i)] + [0]*(m-i) \n",
    "        permutations = list(permut(detect_event))\n",
    "\n",
    "        if i == 0:\n",
    "            for nu in range(nu_max):\n",
    "                stat[i,nu] += 1\n",
    "\n",
    "        else:\n",
    "            for nu in range(nu_max):\n",
    "                for s in permutations:\n",
    "                    stat[i,nu] += Z_i(s, M_sub, nu=nu*dnu) \n",
    "                    \n",
    "    for k in range(m):\n",
    "        for h in range(k + 1, m + 1):\n",
    "            for nu in range(nu_max):\n",
    "                stat[h, nu] -= stat[k, nu] * number_of_comb(m - k, m - h)\n",
    "\n",
    "    for n in range(m + 1):\n",
    "        for j in range(nu_max):\n",
    "            for k in range(nu_max):\n",
    "                sectors[n, j] += (stat[n, k]*np.exp(-1j*j*k*dnu)/nu_max).real\n",
    "                \n",
    "    return sectors/Z(M)"
   ]
  },
  {
   "cell_type": "code",
   "execution_count": null,
   "id": "f74828d0-dc6d-4a34-8aa4-61d262b8ebbd",
   "metadata": {},
   "outputs": [],
   "source": [
    "nu_max =  m*10\n",
    "\n",
    "P_sectors = prob_sectors_exact(M,sample=[1]*m, nu_max=nu_max)\n",
    "\n",
    "for nu in range(m,m*10,m):\n",
    "    plt.plot(\n",
    "        range(m+1),\n",
    "        [P_sectors[j,nu] for j in range(m+1)],\n",
    "        '--' ,\n",
    "        label = 'k='+str(nu)\n",
    ")\n",
    "plt.yscale('log')\n",
    "plt.legend(prop={'size':10}, loc='lower left')\n",
    "plt.xlabel(\"Number of clicks\", fontsize=12)\n",
    "plt.ylabel(\"Probability mass function\", fontsize=12)\n",
    "plt.title(\"PMF for sectors\", fontsize=17);\n",
    "plt.show()"
   ]
  },
  {
   "cell_type": "code",
   "execution_count": null,
   "id": "a3325b9e-cf53-4b69-8606-8723768592c3",
   "metadata": {},
   "outputs": [],
   "source": [
    "n_clicked = m\n",
    "plt.plot(\n",
    "        range(nu_max),\n",
    "        [P_sectors[n_clicked,nu] for nu in range(nu_max)],\n",
    "        '-' \n",
    ")\n",
    "plt.yscale('log')\n",
    "#plt.legend(prop={'size':10}, loc='lower left')\n",
    "plt.xlabel(\"Sectors\", fontsize=12)\n",
    "plt.ylabel(\"Probability mass function\", fontsize=12)\n",
    "plt.title(f\"PMF of sectors for {n_clicked} clicked detectors\", fontsize=17);\n",
    "plt.show()"
   ]
  },
  {
   "cell_type": "code",
   "execution_count": null,
   "id": "f34096fa-4179-4e22-a337-ede0778022eb",
   "metadata": {},
   "outputs": [],
   "source": [
    "# Comparison of calculation of the exact probabilities with and without sectors\n",
    "nu_max = 10*m\n",
    "list_det = [1]*3 +[0]*(m-3)\n",
    "\n",
    "\n",
    "P_sectors =  prob_sectors_exact(M, sample=list_det,nu_max=nu_max)\n",
    "\n",
    "P_ = 0\n",
    "for nu in range(nu_max):\n",
    "    P_ += P_sectors[sum(list_det),nu]\n",
    "    \n",
    "print(P_, df_basis[\"probability_exact\"].loc[str(list_det)])"
   ]
  },
  {
   "cell_type": "code",
   "execution_count": 45,
   "id": "bb742d87-cbeb-4dc0-a346-2ac17b7430db",
   "metadata": {},
   "outputs": [],
   "source": [
    "def count_samples(samples, samples_dictionary):\n",
    "    batch_size = len(samples)\n",
    "    n_unique = len(samples_dictionary.keys())\n",
    "    n_counts = [0]*n_unique\n",
    "\n",
    "    unique_samples = list(samples_dictionary.keys())\n",
    "\n",
    "    for i in range(batch_size):\n",
    "        if str(samples[i]) in unique_samples:\n",
    "            index =  unique_samples.index(str(samples[i]))\n",
    "            n_counts[index]+=1\n",
    "        else:\n",
    "            raise 'Incomplete list of unique samples in the dictionary'\n",
    "    return n_counts\n",
    "\n"
   ]
  },
  {
   "cell_type": "code",
   "execution_count": 48,
   "id": "259e80ac-8f28-4fdf-86c7-bf047ba2c495",
   "metadata": {},
   "outputs": [
    {
     "name": "stdout",
     "output_type": "stream",
     "text": [
      "<class 'pandas.core.frame.DataFrame'>\n",
      "Index: 9 entries, [1, 1, 0, 1, 0, 1, 0, 0] to [1, 0, 0, 1, 0, 1, 0, 1]\n",
      "Data columns (total 3 columns):\n",
      " #   Column             Non-Null Count  Dtype  \n",
      "---  ------             --------------  -----  \n",
      " 0   n_clicks           9 non-null      int64  \n",
      " 1   probability_exact  9 non-null      float64\n",
      " 2   n_counts           9 non-null      int64  \n",
      "dtypes: float64(1), int64(2)\n",
      "memory usage: 288.0+ bytes\n"
     ]
    },
    {
     "data": {
      "text/html": [
       "<div>\n",
       "<style scoped>\n",
       "    .dataframe tbody tr th:only-of-type {\n",
       "        vertical-align: middle;\n",
       "    }\n",
       "\n",
       "    .dataframe tbody tr th {\n",
       "        vertical-align: top;\n",
       "    }\n",
       "\n",
       "    .dataframe thead th {\n",
       "        text-align: right;\n",
       "    }\n",
       "</style>\n",
       "<table border=\"1\" class=\"dataframe\">\n",
       "  <thead>\n",
       "    <tr style=\"text-align: right;\">\n",
       "      <th></th>\n",
       "      <th>n_clicks</th>\n",
       "      <th>probability_exact</th>\n",
       "      <th>n_counts</th>\n",
       "    </tr>\n",
       "    <tr>\n",
       "      <th>sample</th>\n",
       "      <th></th>\n",
       "      <th></th>\n",
       "      <th></th>\n",
       "    </tr>\n",
       "  </thead>\n",
       "  <tbody>\n",
       "    <tr>\n",
       "      <th>[1, 1, 0, 1, 0, 1, 0, 0]</th>\n",
       "      <td>4</td>\n",
       "      <td>0.001540</td>\n",
       "      <td>1</td>\n",
       "    </tr>\n",
       "    <tr>\n",
       "      <th>[1, 0, 1, 0, 0, 0, 1, 1]</th>\n",
       "      <td>4</td>\n",
       "      <td>0.000384</td>\n",
       "      <td>1</td>\n",
       "    </tr>\n",
       "    <tr>\n",
       "      <th>[0, 0, 1, 0, 1, 1, 0, 1]</th>\n",
       "      <td>4</td>\n",
       "      <td>0.000032</td>\n",
       "      <td>1</td>\n",
       "    </tr>\n",
       "    <tr>\n",
       "      <th>[0, 0, 1, 0, 1, 1, 1, 0]</th>\n",
       "      <td>4</td>\n",
       "      <td>0.000008</td>\n",
       "      <td>1</td>\n",
       "    </tr>\n",
       "    <tr>\n",
       "      <th>[1, 1, 1, 0, 0, 0, 0, 1]</th>\n",
       "      <td>4</td>\n",
       "      <td>0.002033</td>\n",
       "      <td>1</td>\n",
       "    </tr>\n",
       "    <tr>\n",
       "      <th>[1, 0, 0, 0, 1, 0, 1, 1]</th>\n",
       "      <td>4</td>\n",
       "      <td>0.000235</td>\n",
       "      <td>2</td>\n",
       "    </tr>\n",
       "    <tr>\n",
       "      <th>[0, 0, 1, 0, 0, 1, 1, 1]</th>\n",
       "      <td>4</td>\n",
       "      <td>0.000005</td>\n",
       "      <td>1</td>\n",
       "    </tr>\n",
       "    <tr>\n",
       "      <th>[0, 1, 1, 0, 1, 0, 1, 0]</th>\n",
       "      <td>4</td>\n",
       "      <td>0.000382</td>\n",
       "      <td>1</td>\n",
       "    </tr>\n",
       "    <tr>\n",
       "      <th>[1, 0, 0, 1, 0, 1, 0, 1]</th>\n",
       "      <td>4</td>\n",
       "      <td>0.000110</td>\n",
       "      <td>1</td>\n",
       "    </tr>\n",
       "  </tbody>\n",
       "</table>\n",
       "</div>"
      ],
      "text/plain": [
       "                          n_clicks  probability_exact  n_counts\n",
       "sample                                                         \n",
       "[1, 1, 0, 1, 0, 1, 0, 0]         4           0.001540         1\n",
       "[1, 0, 1, 0, 0, 0, 1, 1]         4           0.000384         1\n",
       "[0, 0, 1, 0, 1, 1, 0, 1]         4           0.000032         1\n",
       "[0, 0, 1, 0, 1, 1, 1, 0]         4           0.000008         1\n",
       "[1, 1, 1, 0, 0, 0, 0, 1]         4           0.002033         1\n",
       "[1, 0, 0, 0, 1, 0, 1, 1]         4           0.000235         2\n",
       "[0, 0, 1, 0, 0, 1, 1, 1]         4           0.000005         1\n",
       "[0, 1, 1, 0, 1, 0, 1, 0]         4           0.000382         1\n",
       "[1, 0, 0, 1, 0, 1, 0, 1]         4           0.000110         1"
      ]
     },
     "execution_count": 48,
     "metadata": {},
     "output_type": "execute_result"
    }
   ],
   "source": [
    "# Export samples and exact probabilities? \n",
    "\n",
    "samples_dictionary = {\n",
    "        str(s): [sum(s), prob_exact(s, M)] for s in samples\n",
    "    }\n",
    "\n",
    "df_experiment = (\n",
    "    pd.DataFrame\n",
    "    .from_dict(samples_dictionary, orient='index', columns=[\"n_clicks\",\"probability_exact\"])\n",
    ")\n",
    "\n",
    "df_experiment.index.name = \"sample\"\n",
    "\n",
    "df_experiment[\"n_counts\"] = count_samples(samples, samples_dictionary)\n",
    "\n",
    "df_experiment.info()\n",
    "df_experiment.head(10)"
   ]
  },
  {
   "cell_type": "markdown",
   "id": "aeed9ff3-2799-4ff4-a10f-1c558afbc213",
   "metadata": {},
   "source": [
    "## Compute submatrices according to samples"
   ]
  },
  {
   "cell_type": "code",
   "execution_count": null,
   "id": "c8507c04-3fdb-40a1-b51c-c5779359778c",
   "metadata": {},
   "outputs": [],
   "source": [
    "# Export submatrices for samples\n",
    "submatriсes_export(M, samples, path)"
   ]
  },
  {
   "cell_type": "markdown",
   "id": "058b89dd-1de3-4f57-80e1-39d811e95c54",
   "metadata": {},
   "source": [
    "## Compute minors "
   ]
  },
  {
   "cell_type": "code",
   "execution_count": null,
   "id": "aa4f86b3-d7ae-4cb8-8664-d7eeca855e65",
   "metadata": {},
   "outputs": [],
   "source": [
    "compute_minors(path)"
   ]
  },
  {
   "cell_type": "markdown",
   "id": "417d5b89-8e07-4362-9c1a-8fba1277e78d",
   "metadata": {},
   "source": [
    "## Compute moments"
   ]
  },
  {
   "cell_type": "code",
   "execution_count": null,
   "id": "afc3bc92-a41b-4975-b022-88bb82c5474e",
   "metadata": {},
   "outputs": [],
   "source": [
    "id_ = 1\n",
    "moments = MomentUtility(id_ = id_, n_moments = 4)"
   ]
  },
  {
   "cell_type": "code",
   "execution_count": null,
   "id": "051523e7-35a8-4ac9-aeed-150e5ab389db",
   "metadata": {},
   "outputs": [],
   "source": [
    "moments.export_moments()\n",
    "#m1_, m2_, m3_, m4_ = moments.get_moments(path)"
   ]
  },
  {
   "cell_type": "markdown",
   "id": "21ea50b9-68e7-4f9e-9287-770e241a316a",
   "metadata": {},
   "source": [
    "## Get approximate probabilities"
   ]
  },
  {
   "cell_type": "code",
   "execution_count": null,
   "id": "8d71cab4-de7e-4eea-84c7-7a8600398407",
   "metadata": {},
   "outputs": [],
   "source": [
    "cumulants = CumulantUtility(id_ = id_, n_moments = 4)\n",
    "\n",
    "probability_approx_2,probability_approx_3, probability_approx_4 = cumulants.prob_approx()"
   ]
  },
  {
   "cell_type": "code",
   "execution_count": 11,
   "id": "e1dce997-61ae-44ef-a682-d7d125fcf687",
   "metadata": {},
   "outputs": [],
   "source": [
    "def get_approx_probabilities(path):\n",
    "    probs_approx_2 = []\n",
    "    probs_approx_3 = []\n",
    "    probs_approx_4 = []\n",
    "\n",
    "    data_ids = np.genfromtxt(path + '/input/samples_ids.dat', dtype=str)\n",
    "\n",
    "    ids = [int(i) for i in data_ids[:,0]]\n",
    "\n",
    "    for i in ids:\n",
    "        moments = MomentUtility(id_ = i)\n",
    "        moments.export_moments()\n",
    "        cumulants = CumulantUtility(id_ = i)\n",
    "        probability_approx_2, probability_approx_3, probability_approx_4 = cumulants.prob_approx()\n",
    "        probs_approx_2.append(probability_approx_2)\n",
    "        probs_approx_3.append(probability_approx_3)\n",
    "        probs_approx_4.append(probability_approx_4)\n",
    "\n",
    "    \n",
    "    return probs_approx_2, probs_approx_3, probs_approx_4\n",
    "\n",
    "\n",
    "probs_approx_2, probs_approx_3, probs_approx_4 = get_approx_probabilities(path)"
   ]
  },
  {
   "cell_type": "code",
   "execution_count": 14,
   "id": "f7636337-b7cf-4014-a605-3c1595614024",
   "metadata": {},
   "outputs": [
    {
     "data": {
      "text/plain": [
       "[0.016723598247845695,\n",
       " 0.0074267316868304786,\n",
       " 0.0013491009265548077,\n",
       " 0.00042318346742149554,\n",
       " 0.020621778572468236,\n",
       " 0.004174295494375053,\n",
       " 0.00017442892630754357,\n",
       " 0.004174295494375053,\n",
       " 0.004537927799696737,\n",
       " 0.002310366359987994]"
      ]
     },
     "execution_count": 14,
     "metadata": {},
     "output_type": "execute_result"
    }
   ],
   "source": [
    "probs_approx_2"
   ]
  },
  {
   "cell_type": "code",
   "execution_count": 24,
   "id": "67b0bc31-d983-4e23-9593-f779a9482e86",
   "metadata": {},
   "outputs": [
    {
     "data": {
      "text/plain": [
       "10"
      ]
     },
     "execution_count": 24,
     "metadata": {},
     "output_type": "execute_result"
    }
   ],
   "source": [
    "len(samples)"
   ]
  },
  {
   "cell_type": "code",
   "execution_count": 22,
   "id": "8ee57f6a-90d0-4702-bb1b-68dc8d3840fe",
   "metadata": {},
   "outputs": [
    {
     "ename": "ValueError",
     "evalue": "Length of values (10) does not match length of index (9)",
     "output_type": "error",
     "traceback": [
      "\u001b[0;31m---------------------------------------------------------------------------\u001b[0m",
      "\u001b[0;31mValueError\u001b[0m                                Traceback (most recent call last)",
      "\u001b[0;32m/var/folders/d4/v5xmg8w567957dly2bs_qpfm0000gn/T/ipykernel_19945/1407512317.py\u001b[0m in \u001b[0;36m<module>\u001b[0;34m\u001b[0m\n\u001b[0;32m----> 1\u001b[0;31m \u001b[0mdf_experiment\u001b[0m\u001b[0;34m[\u001b[0m\u001b[0;34m\"probability_approx_2\"\u001b[0m\u001b[0;34m]\u001b[0m \u001b[0;34m=\u001b[0m \u001b[0mprobs_approx_2\u001b[0m\u001b[0;34m\u001b[0m\u001b[0;34m\u001b[0m\u001b[0m\n\u001b[0m\u001b[1;32m      2\u001b[0m \u001b[0;31m# df_experiment[\"probability_approx_3\"] = pd.Series(probs_approx_3)\u001b[0m\u001b[0;34m\u001b[0m\u001b[0;34m\u001b[0m\u001b[0m\n\u001b[1;32m      3\u001b[0m \u001b[0;31m# df_experiment[\"probability_approx_4\"] = pd.Series(probs_approx_4)\u001b[0m\u001b[0;34m\u001b[0m\u001b[0;34m\u001b[0m\u001b[0m\n\u001b[1;32m      4\u001b[0m \u001b[0mdf_experiment\u001b[0m\u001b[0;34m\u001b[0m\u001b[0;34m\u001b[0m\u001b[0m\n",
      "\u001b[0;32m~/opt/anaconda3/lib/python3.9/site-packages/pandas/core/frame.py\u001b[0m in \u001b[0;36m__setitem__\u001b[0;34m(self, key, value)\u001b[0m\n\u001b[1;32m   3653\u001b[0m         \u001b[0;32melse\u001b[0m\u001b[0;34m:\u001b[0m\u001b[0;34m\u001b[0m\u001b[0;34m\u001b[0m\u001b[0m\n\u001b[1;32m   3654\u001b[0m             \u001b[0;31m# set column\u001b[0m\u001b[0;34m\u001b[0m\u001b[0;34m\u001b[0m\u001b[0m\n\u001b[0;32m-> 3655\u001b[0;31m             \u001b[0mself\u001b[0m\u001b[0;34m.\u001b[0m\u001b[0m_set_item\u001b[0m\u001b[0;34m(\u001b[0m\u001b[0mkey\u001b[0m\u001b[0;34m,\u001b[0m \u001b[0mvalue\u001b[0m\u001b[0;34m)\u001b[0m\u001b[0;34m\u001b[0m\u001b[0;34m\u001b[0m\u001b[0m\n\u001b[0m\u001b[1;32m   3656\u001b[0m \u001b[0;34m\u001b[0m\u001b[0m\n\u001b[1;32m   3657\u001b[0m     \u001b[0;32mdef\u001b[0m \u001b[0m_setitem_slice\u001b[0m\u001b[0;34m(\u001b[0m\u001b[0mself\u001b[0m\u001b[0;34m,\u001b[0m \u001b[0mkey\u001b[0m\u001b[0;34m:\u001b[0m \u001b[0mslice\u001b[0m\u001b[0;34m,\u001b[0m \u001b[0mvalue\u001b[0m\u001b[0;34m)\u001b[0m\u001b[0;34m:\u001b[0m\u001b[0;34m\u001b[0m\u001b[0;34m\u001b[0m\u001b[0m\n",
      "\u001b[0;32m~/opt/anaconda3/lib/python3.9/site-packages/pandas/core/frame.py\u001b[0m in \u001b[0;36m_set_item\u001b[0;34m(self, key, value)\u001b[0m\n\u001b[1;32m   3830\u001b[0m         \u001b[0mensure\u001b[0m \u001b[0mhomogeneity\u001b[0m\u001b[0;34m.\u001b[0m\u001b[0;34m\u001b[0m\u001b[0;34m\u001b[0m\u001b[0m\n\u001b[1;32m   3831\u001b[0m         \"\"\"\n\u001b[0;32m-> 3832\u001b[0;31m         \u001b[0mvalue\u001b[0m \u001b[0;34m=\u001b[0m \u001b[0mself\u001b[0m\u001b[0;34m.\u001b[0m\u001b[0m_sanitize_column\u001b[0m\u001b[0;34m(\u001b[0m\u001b[0mvalue\u001b[0m\u001b[0;34m)\u001b[0m\u001b[0;34m\u001b[0m\u001b[0;34m\u001b[0m\u001b[0m\n\u001b[0m\u001b[1;32m   3833\u001b[0m \u001b[0;34m\u001b[0m\u001b[0m\n\u001b[1;32m   3834\u001b[0m         if (\n",
      "\u001b[0;32m~/opt/anaconda3/lib/python3.9/site-packages/pandas/core/frame.py\u001b[0m in \u001b[0;36m_sanitize_column\u001b[0;34m(self, value)\u001b[0m\n\u001b[1;32m   4536\u001b[0m \u001b[0;34m\u001b[0m\u001b[0m\n\u001b[1;32m   4537\u001b[0m         \u001b[0;32mif\u001b[0m \u001b[0mis_list_like\u001b[0m\u001b[0;34m(\u001b[0m\u001b[0mvalue\u001b[0m\u001b[0;34m)\u001b[0m\u001b[0;34m:\u001b[0m\u001b[0;34m\u001b[0m\u001b[0;34m\u001b[0m\u001b[0m\n\u001b[0;32m-> 4538\u001b[0;31m             \u001b[0mcom\u001b[0m\u001b[0;34m.\u001b[0m\u001b[0mrequire_length_match\u001b[0m\u001b[0;34m(\u001b[0m\u001b[0mvalue\u001b[0m\u001b[0;34m,\u001b[0m \u001b[0mself\u001b[0m\u001b[0;34m.\u001b[0m\u001b[0mindex\u001b[0m\u001b[0;34m)\u001b[0m\u001b[0;34m\u001b[0m\u001b[0;34m\u001b[0m\u001b[0m\n\u001b[0m\u001b[1;32m   4539\u001b[0m         \u001b[0;32mreturn\u001b[0m \u001b[0msanitize_array\u001b[0m\u001b[0;34m(\u001b[0m\u001b[0mvalue\u001b[0m\u001b[0;34m,\u001b[0m \u001b[0mself\u001b[0m\u001b[0;34m.\u001b[0m\u001b[0mindex\u001b[0m\u001b[0;34m,\u001b[0m \u001b[0mcopy\u001b[0m\u001b[0;34m=\u001b[0m\u001b[0;32mTrue\u001b[0m\u001b[0;34m,\u001b[0m \u001b[0mallow_2d\u001b[0m\u001b[0;34m=\u001b[0m\u001b[0;32mTrue\u001b[0m\u001b[0;34m)\u001b[0m\u001b[0;34m\u001b[0m\u001b[0;34m\u001b[0m\u001b[0m\n\u001b[1;32m   4540\u001b[0m \u001b[0;34m\u001b[0m\u001b[0m\n",
      "\u001b[0;32m~/opt/anaconda3/lib/python3.9/site-packages/pandas/core/common.py\u001b[0m in \u001b[0;36mrequire_length_match\u001b[0;34m(data, index)\u001b[0m\n\u001b[1;32m    555\u001b[0m     \"\"\"\n\u001b[1;32m    556\u001b[0m     \u001b[0;32mif\u001b[0m \u001b[0mlen\u001b[0m\u001b[0;34m(\u001b[0m\u001b[0mdata\u001b[0m\u001b[0;34m)\u001b[0m \u001b[0;34m!=\u001b[0m \u001b[0mlen\u001b[0m\u001b[0;34m(\u001b[0m\u001b[0mindex\u001b[0m\u001b[0;34m)\u001b[0m\u001b[0;34m:\u001b[0m\u001b[0;34m\u001b[0m\u001b[0;34m\u001b[0m\u001b[0m\n\u001b[0;32m--> 557\u001b[0;31m         raise ValueError(\n\u001b[0m\u001b[1;32m    558\u001b[0m             \u001b[0;34m\"Length of values \"\u001b[0m\u001b[0;34m\u001b[0m\u001b[0;34m\u001b[0m\u001b[0m\n\u001b[1;32m    559\u001b[0m             \u001b[0;34mf\"({len(data)}) \"\u001b[0m\u001b[0;34m\u001b[0m\u001b[0;34m\u001b[0m\u001b[0m\n",
      "\u001b[0;31mValueError\u001b[0m: Length of values (10) does not match length of index (9)"
     ]
    }
   ],
   "source": [
    "df_experiment[\"probability_approx_2\"] = probs_approx_2\n",
    "# df_experiment[\"probability_approx_3\"] = pd.Series(probs_approx_3)\n",
    "# df_experiment[\"probability_approx_4\"] = pd.Series(probs_approx_4)\n",
    "df_experiment    "
   ]
  },
  {
   "cell_type": "code",
   "execution_count": null,
   "id": "9b0ac4e6-3385-44d1-b98b-867d500ce8e9",
   "metadata": {},
   "outputs": [],
   "source": [
    "#def get_minors(id_):\n",
    "    "
   ]
  },
  {
   "cell_type": "code",
   "execution_count": null,
   "id": "48f10281-3c1c-47a4-a560-c342601901e4",
   "metadata": {},
   "outputs": [],
   "source": [
    "df_experiment"
   ]
  },
  {
   "cell_type": "code",
   "execution_count": null,
   "id": "909df367-74e3-4ad8-9e39-0b1a201f1b02",
   "metadata": {},
   "outputs": [],
   "source": [
    "# Data moments \n",
    "\n",
    "# moment_0 = (Z_v_0f[:]/Z_v_0[0]).real\n",
    "# moment_1 = data_mom[:, 0]\n",
    "# moment_2 = data_mom[:, 1]\n",
    "# moment_3 = data_mom[:, 2]\n",
    "# moment_4 = data_mom[:, 3]\n",
    "\n",
    "# # Model moments\n",
    "\n",
    "# import scipy.stats as sts\n",
    "# import scipy.integrate as intgr\n",
    "# import scipy.optimize as opt\n",
    "\n",
    "# xfx = lambda x: x * moment_0 * gauss_fun(x, moment_1, moment_2)\n",
    "\n",
    "# xfx(1)\n",
    "# (mean_model, m_m_err) = intgr.quad(xfx, -np.inf, cutoff)\n",
    "# x2fx = lambda x: ((x - mean_model) ** 2) * trunc_norm_pdf(x, mu, sigma, cutoff) \n",
    "# (var_model, v_m_err) = intgr.quad(x2fx, -np.inf, cutoff)\n",
    "\n",
    "\n"
   ]
  },
  {
   "cell_type": "code",
   "execution_count": null,
   "id": "d32b4474-4752-4023-aeb7-204752252b1e",
   "metadata": {},
   "outputs": [],
   "source": []
  }
 ],
 "metadata": {
  "kernelspec": {
   "display_name": "Python 3 (ipykernel)",
   "language": "python",
   "name": "python3"
  },
  "language_info": {
   "codemirror_mode": {
    "name": "ipython",
    "version": 3
   },
   "file_extension": ".py",
   "mimetype": "text/x-python",
   "name": "python",
   "nbconvert_exporter": "python",
   "pygments_lexer": "ipython3",
   "version": "3.9.13"
  }
 },
 "nbformat": 4,
 "nbformat_minor": 5
}
