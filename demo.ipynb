{
 "cells": [
  {
   "cell_type": "code",
   "execution_count": null,
   "id": "9ed0f6b2-48b2-46d5-8d98-100ab4abf64a",
   "metadata": {
    "tags": []
   },
   "outputs": [],
   "source": [
    "from quantum_badger import *\n",
    "import matplotlib.pyplot as plt\n",
    "%matplotlib inline\n",
    "%config InlineBackend.figure_formats=['svg'] \n",
    "\n",
    "import pandas as pd\n",
    "\n",
    "colors = ['#8ECAE6', '#219EBC', '#023047', '#FFCB47', '#FFB703', '#FB8500', '#BB0A21']\n",
    "\n",
    "from numba import njit\n"
   ]
  },
  {
   "cell_type": "markdown",
   "id": "0cabe0b9-6044-46a9-99a8-e33151897cf6",
   "metadata": {
    "tags": []
   },
   "source": [
    "## Initialize the Gaussian Boson Sampling Emulator"
   ]
  },
  {
   "cell_type": "code",
   "execution_count": null,
   "id": "62f711b1-6242-4992-86ef-4c3118fb0ada",
   "metadata": {
    "tags": []
   },
   "outputs": [],
   "source": [
    "path = return_path(filename='demo.ipynb')"
   ]
  },
  {
   "cell_type": "code",
   "execution_count": null,
   "id": "664775d9-e95a-4d72-a554-aa0c46a657d7",
   "metadata": {
    "tags": []
   },
   "outputs": [],
   "source": [
    "# Set the GBS device parameters\n",
    "\n",
    "random.seed(42)\n",
    "\n",
    "# Number of modes \n",
    "m = 8\n",
    "# Number of input squeezed states\n",
    "n = round(m/2) \n",
    "# Squeezing parameter of the input squeezed vacuum states\n",
    "r = 1.6\n",
    "\n",
    "# Number of beam splitters \n",
    "n_BS = m**2\n",
    "\n",
    "r_, phi_ = input_state(r, m, n) \n",
    "A = set_input(r_, phi_, path)\n",
    "U = get_random_interferometer(m, n_BS, path)\n",
    "\n",
    "# or \n",
    "# U = import_interferometer(path, '/matrix_U.dat') \n",
    "\n",
    "M = set_device_parameters(r, A, U, path)\n",
    "\n",
    "# Tests\n",
    "#check_set_parameters(U,M)"
   ]
  },
  {
   "cell_type": "code",
   "execution_count": null,
   "id": "b0b811fd-d375-4f5b-9a73-728b3433a1fe",
   "metadata": {
    "tags": []
   },
   "outputs": [],
   "source": [
    "error = 0.05\n",
    "\n",
    "ind, phi, psi, eta = import_parameters_interferometer(path, '/parameters_of_interferometer.dat')\n",
    "U_appr = interferometer_approx(n_BS, ind, phi, psi, eta, error,  m)\n",
    "\n",
    "print(\"Frobenius distance between U and U_appr:\", round(frobenius_distance(U, U_appr),2) )"
   ]
  },
  {
   "cell_type": "code",
   "execution_count": null,
   "id": "9140481d-df1f-4953-99ce-dd521a62a160",
   "metadata": {
    "tags": []
   },
   "outputs": [],
   "source": [
    "batch_size = 10 \n",
    "samples = uniform_sampling_tr(batch_size,n,m)\n",
    "samples"
   ]
  },
  {
   "cell_type": "code",
   "execution_count": null,
   "id": "dcee7f29-aeb9-4f7e-81c5-13efe764edf1",
   "metadata": {},
   "outputs": [],
   "source": [
    "export_samples(samples, path, \"/samples.dat\")"
   ]
  },
  {
   "cell_type": "code",
   "execution_count": null,
   "id": "661f1626-2e80-4595-967a-c014b57851fd",
   "metadata": {},
   "outputs": [],
   "source": [
    "samples = import_samples(path, \"/samples.dat\")\n",
    "samples"
   ]
  },
  {
   "cell_type": "markdown",
   "id": "aa9f7c97-f5bf-4cc5-863e-8ff980b3a962",
   "metadata": {},
   "source": [
    "## Run the Gaussian Boson Sampling Emulator"
   ]
  },
  {
   "cell_type": "code",
   "execution_count": null,
   "id": "ada6225b-0f99-4150-b590-03a24c03ba4c",
   "metadata": {},
   "outputs": [],
   "source": [
    "%%bash\n",
    "\n",
    "stat"
   ]
  },
  {
   "cell_type": "code",
   "execution_count": null,
   "id": "486f82e2-dd1c-4d85-ab1e-497e597043b7",
   "metadata": {},
   "outputs": [],
   "source": [
    "# cmd = \"python3 \" path + r\"GBS.py\" \n",
    "# call(cmd.split(\" \"))"
   ]
  },
  {
   "cell_type": "markdown",
   "id": "65fc3dde-5f34-47ed-b8eb-b153f6cf3d89",
   "metadata": {},
   "source": [
    "## Compute probabilities exactly"
   ]
  },
  {
   "cell_type": "code",
   "execution_count": null,
   "id": "ea3da8e7-3d3e-4dbe-8f6a-c2d28b910aae",
   "metadata": {},
   "outputs": [],
   "source": [
    "# samples, probabilities = import_gbs_samples(path)"
   ]
  },
  {
   "cell_type": "code",
   "execution_count": null,
   "id": "f2128807-a266-4d26-9753-44d6e377cfff",
   "metadata": {},
   "outputs": [],
   "source": [
    "probabilities_exact = []\n",
    "\n",
    "for s in samples:\n",
    "    \n",
    "    probabilities_exact.append(prob_exact(s, M))"
   ]
  },
  {
   "cell_type": "code",
   "execution_count": null,
   "id": "6552b689-e40d-42e5-9d11-65f678f8ba6a",
   "metadata": {},
   "outputs": [],
   "source": [
    "for i in range(len(samples)):\n",
    "    print(samples[i],convert_01_0123(samples[i]), probabilities_exact[i])"
   ]
  },
  {
   "cell_type": "code",
   "execution_count": null,
   "id": "9962556d-9141-4d7d-9f77-03aee569fd68",
   "metadata": {},
   "outputs": [],
   "source": [
    "# Obtain all possible samples for theshold detection\n",
    "all_permutations = threshold_basis_set(m)\n",
    "# Calculate probabilities for all possible samples \n",
    "\n",
    "probabilities_exact = []\n",
    "\n",
    "for s in all_permutations:\n",
    "    probabilities_exact.append(prob_exact(s, M))\n",
    "    \n",
    "\n",
    "# Sum all probabilities to obtain 1 \n",
    "print(\"sum prob:\", sum(probabilities_exact))\n"
   ]
  },
  {
   "cell_type": "code",
   "execution_count": null,
   "id": "f4bb185b-4c8f-4826-866f-cf9408e5a8e2",
   "metadata": {},
   "outputs": [],
   "source": [
    "basis_dictionary = {\n",
    "        str(all_permutations[i]): [sum(all_permutations[i]), probabilities_exact[i]] \n",
    "        for i in range(len(all_permutations))\n",
    "    }"
   ]
  },
  {
   "cell_type": "code",
   "execution_count": null,
   "id": "357f68c1-7121-4f11-b5a3-dbfa3dcda6ed",
   "metadata": {},
   "outputs": [],
   "source": [
    "df_basis = (\n",
    "    pd.DataFrame\n",
    "    .from_dict(basis_dictionary, orient='index', columns=[\"n_clicks\",\"probability_exact\"])\n",
    ")\n",
    "\n",
    "df_basis.index.name = \"sample\"\n"
   ]
  },
  {
   "cell_type": "code",
   "execution_count": null,
   "id": "843eeca0-195f-4dd9-a290-1e79686783b7",
   "metadata": {},
   "outputs": [],
   "source": [
    "df_basis.info()\n",
    "df_basis.head()"
   ]
  },
  {
   "cell_type": "code",
   "execution_count": null,
   "id": "d3c2c9c2-6f28-4362-a142-f5bb6ab2a7ee",
   "metadata": {},
   "outputs": [],
   "source": [
    "# Find probability of a specific sample in DataFrame\n",
    "sample = [0]*m\n",
    "df_basis[\"probability_exact\"].loc[str(sample)] "
   ]
  },
  {
   "cell_type": "code",
   "execution_count": null,
   "id": "75f278a9-db33-407f-907a-88d38764c55c",
   "metadata": {},
   "outputs": [],
   "source": [
    "pmf_values = [sum(df_basis[\"probability_exact\"][df_basis[\"n_clicks\"] == n]) for n in range(m+1)]\n",
    "\n",
    "plt.vlines(\n",
    "    range(m+1), \n",
    "    0,\n",
    "    pmf_values, \n",
    "    color = colors[0],\n",
    "    linestyles='dashed'\n",
    ")\n",
    "\n",
    "plt.plot(\n",
    "    range(m+1), \n",
    "    pmf_values,\n",
    "    'o-',\n",
    "    color = colors[1]\n",
    ")\n",
    "\n",
    "plt.yscale('log')\n",
    "plt.xlabel(\"Number of clicks\", fontsize=12)\n",
    "plt.ylabel(\"Probability mass function\", fontsize=12)\n",
    "plt.title(\"PMF for Gaussian Boson Sampling\", fontsize=17);\n",
    "plt.show()"
   ]
  },
  {
   "cell_type": "code",
   "execution_count": null,
   "id": "d80ad76e-d4f6-40ae-8091-01f79a9f11b8",
   "metadata": {},
   "outputs": [],
   "source": [
    "# Alignment \n",
    "# Create column \"samples_frequency\"\n",
    "# Values should contain the frequencies of imported samples \n",
    "\n",
    "#df_basis[\"probability_exact\"].loc[str(samples[0])]"
   ]
  },
  {
   "cell_type": "code",
   "execution_count": null,
   "id": "23775997-0dbf-4217-af97-9358ba1361df",
   "metadata": {},
   "outputs": [],
   "source": [
    "# Test: comparison exact probabilities with sf for the small problem"
   ]
  },
  {
   "cell_type": "code",
   "execution_count": null,
   "id": "f7b74a13-a55f-4b00-a9e4-0a3eaac9852d",
   "metadata": {},
   "outputs": [],
   "source": [
    "# Compute probabilities for sectors exactly\n",
    "\n",
    "def prob_sectors_exact(M, sample=[1]*len(M), nu_max=10*len(M)):\n",
    "    \n",
    "    \"\"\"\n",
    "    Calculates the exact probabilities over sectors for a given sample \n",
    "    and Gaussian matrix.\n",
    "\n",
    "    Args:\n",
    "        M (numpy.ndarray): The Gaussian matrix for computation.\n",
    "        sample (list, optional): The sample to calculate the probabilities for. Defaults to [1]*len(M).\n",
    "        nu_max (int, optional): The maximum value for the parameter 'nu'. Defaults to 10*len(M).\n",
    "\n",
    "    Returns:\n",
    "        numpy.ndarray: The exact probabilities over sectors for the given sample and Gaussian matrix.\n",
    "\n",
    "        \n",
    "    \"\"\"\n",
    " \n",
    "    \n",
    "    clicked_detectors = convert_01_0123(sample)    \n",
    "    M_sub = red_mat(M, clicked_detectors)\n",
    "\n",
    "    dnu = 2 * np.pi / nu_max\n",
    "    m = len(M_sub)\n",
    "\n",
    "    stat = np.zeros((m + 1, nu_max), dtype=np.complex128)\n",
    "    sectors = np.zeros((m + 1, nu_max), dtype=np.float64)\n",
    "                    \n",
    "    for i in range(m+1):\n",
    "        detect_event = [1 for j in range(i)] + [0]*(m-i) \n",
    "        permutations = list(permut(detect_event))\n",
    "\n",
    "        if i == 0:\n",
    "            for nu in range(nu_max):\n",
    "                stat[i,nu] += 1\n",
    "\n",
    "        else:\n",
    "            for nu in range(nu_max):\n",
    "                for s in permutations:\n",
    "                    stat[i,nu] += Z_i(s, M_sub, nu=nu*dnu) \n",
    "                    \n",
    "    for k in range(m):\n",
    "        for h in range(k + 1, m + 1):\n",
    "            for nu in range(nu_max):\n",
    "                stat[h, nu] -= stat[k, nu] * number_of_comb(m - k, m - h)\n",
    "\n",
    "    for n in range(m + 1):\n",
    "        for j in range(nu_max):\n",
    "            for k in range(nu_max):\n",
    "                sectors[n, j] += (stat[n, k]*np.exp(-1j*j*k*dnu)/nu_max).real\n",
    "                \n",
    "    return sectors/Z(M)"
   ]
  },
  {
   "cell_type": "code",
   "execution_count": null,
   "id": "f74828d0-dc6d-4a34-8aa4-61d262b8ebbd",
   "metadata": {},
   "outputs": [],
   "source": [
    "nu_max =  m*10\n",
    "\n",
    "P_sectors = prob_sectors_exact(M,sample=[1]*m, nu_max=nu_max)\n",
    "\n",
    "for nu in range(m,m*10,m):\n",
    "    plt.plot(\n",
    "        range(m+1),\n",
    "        [P_sectors[j,nu] for j in range(m+1)],\n",
    "        '--' ,\n",
    "        label = 'k='+str(nu)\n",
    ")\n",
    "plt.yscale('log')\n",
    "plt.legend(prop={'size':10}, loc='lower left')\n",
    "plt.xlabel(\"Number of clicks\", fontsize=12)\n",
    "plt.ylabel(\"Probability mass function\", fontsize=12)\n",
    "plt.title(\"PMF for sectors\", fontsize=17);\n",
    "plt.show()"
   ]
  },
  {
   "cell_type": "code",
   "execution_count": null,
   "id": "a3325b9e-cf53-4b69-8606-8723768592c3",
   "metadata": {},
   "outputs": [],
   "source": [
    "n_clicked = m\n",
    "plt.plot(\n",
    "        range(nu_max),\n",
    "        [P_sectors[n_clicked,nu] for nu in range(nu_max)],\n",
    "        '-' \n",
    ")\n",
    "plt.yscale('log')\n",
    "#plt.legend(prop={'size':10}, loc='lower left')\n",
    "plt.xlabel(\"Sectors\", fontsize=12)\n",
    "plt.ylabel(\"Probability mass function\", fontsize=12)\n",
    "plt.title(f\"PMF of sectors for {n_clicked} clicked detectors\", fontsize=17);\n",
    "plt.show()"
   ]
  },
  {
   "cell_type": "code",
   "execution_count": null,
   "id": "f34096fa-4179-4e22-a337-ede0778022eb",
   "metadata": {},
   "outputs": [],
   "source": [
    "# Comparison of calculation of the exact probabilities with and without sectors\n",
    "nu_max = 10*m\n",
    "list_det = [1]*3 +[0]*(m-3)\n",
    "\n",
    "\n",
    "P_sectors =  prob_sectors_exact(M, sample=list_det,nu_max=nu_max)\n",
    "\n",
    "P_ = 0\n",
    "for nu in range(nu_max):\n",
    "    P_ += P_sectors[sum(list_det),nu]\n",
    "    \n",
    "print(P_, df_basis[\"probability_exact\"].loc[str(list_det)])"
   ]
  },
  {
   "cell_type": "code",
   "execution_count": null,
   "id": "66361535-355a-4cab-be2f-233bc5ace6db",
   "metadata": {},
   "outputs": [],
   "source": [
    "samples[0]"
   ]
  },
  {
   "cell_type": "code",
   "execution_count": null,
   "id": "259e80ac-8f28-4fdf-86c7-bf047ba2c495",
   "metadata": {},
   "outputs": [],
   "source": [
    "# Export samples and exact probabilities? \n",
    "\n",
    "samples_dictionary = {\n",
    "        str(samples[i]): [sum(samples[i]), prob_exact(samples[i], M)] \n",
    "        for i in range(len(samples))\n",
    "    }\n",
    "\n",
    "df_experiment = (\n",
    "    pd.DataFrame\n",
    "    .from_dict(samples_dictionary, orient='index', columns=[\"n_clicks\",\"probability_exact\"])\n",
    ")\n",
    "\n",
    "df_experiment.index.name = \"sample\"\n",
    "df_experiment.info()\n",
    "df_experiment.head(10)"
   ]
  },
  {
   "cell_type": "markdown",
   "id": "aeed9ff3-2799-4ff4-a10f-1c558afbc213",
   "metadata": {},
   "source": [
    "## Compute submatrices according to samples"
   ]
  },
  {
   "cell_type": "code",
   "execution_count": null,
   "id": "c8507c04-3fdb-40a1-b51c-c5779359778c",
   "metadata": {},
   "outputs": [],
   "source": [
    "# Export submatrices for samples\n",
    "submatriсes_export(M, samples, path)"
   ]
  },
  {
   "cell_type": "markdown",
   "id": "058b89dd-1de3-4f57-80e1-39d811e95c54",
   "metadata": {},
   "source": [
    "## Compute minors "
   ]
  },
  {
   "cell_type": "code",
   "execution_count": null,
   "id": "aa4f86b3-d7ae-4cb8-8664-d7eeca855e65",
   "metadata": {},
   "outputs": [],
   "source": [
    "compute_minors(path)"
   ]
  },
  {
   "cell_type": "markdown",
   "id": "417d5b89-8e07-4362-9c1a-8fba1277e78d",
   "metadata": {},
   "source": [
    "## Compute moments"
   ]
  },
  {
   "cell_type": "code",
   "execution_count": null,
   "id": "afc3bc92-a41b-4975-b022-88bb82c5474e",
   "metadata": {},
   "outputs": [],
   "source": [
    "id_ = 1\n",
    "moments = MomentUtility(id_ = id_, n_moments = 4)"
   ]
  },
  {
   "cell_type": "code",
   "execution_count": null,
   "id": "051523e7-35a8-4ac9-aeed-150e5ab389db",
   "metadata": {},
   "outputs": [],
   "source": [
    "moments.export_moments()\n",
    "#m1_, m2_, m3_, m4_ = moments.get_moments(path)"
   ]
  },
  {
   "cell_type": "markdown",
   "id": "21ea50b9-68e7-4f9e-9287-770e241a316a",
   "metadata": {},
   "source": [
    "## Get approximate probabilities"
   ]
  },
  {
   "cell_type": "code",
   "execution_count": null,
   "id": "8d71cab4-de7e-4eea-84c7-7a8600398407",
   "metadata": {},
   "outputs": [],
   "source": [
    "cumulants = CumulantUtility(id_ = id_, n_moments = 4)\n",
    "\n",
    "cumulants.prob_approx()"
   ]
  },
  {
   "cell_type": "code",
   "execution_count": 1,
   "id": "909df367-74e3-4ad8-9e39-0b1a201f1b02",
   "metadata": {},
   "outputs": [],
   "source": [
    "# Data moments \n",
    "\n",
    "# moment_0 = (Z_v_0f[:]/Z_v_0[0]).real\n",
    "# moment_1 = data_mom[:, 0]\n",
    "# moment_2 = data_mom[:, 1]\n",
    "# moment_3 = data_mom[:, 2]\n",
    "# moment_4 = data_mom[:, 3]\n",
    "\n",
    "# # Model moments\n",
    "\n",
    "# import scipy.stats as sts\n",
    "# import scipy.integrate as intgr\n",
    "# import scipy.optimize as opt\n",
    "\n",
    "# xfx = lambda x: x * moment_0 * gauss_fun(x, moment_1, moment_2)\n",
    "\n",
    "# xfx(1)\n",
    "# (mean_model, m_m_err) = intgr.quad(xfx, -np.inf, cutoff)\n",
    "# x2fx = lambda x: ((x - mean_model) ** 2) * trunc_norm_pdf(x, mu, sigma, cutoff) \n",
    "# (var_model, v_m_err) = intgr.quad(x2fx, -np.inf, cutoff)\n",
    "\n",
    "\n"
   ]
  },
  {
   "cell_type": "code",
   "execution_count": null,
   "id": "d32b4474-4752-4023-aeb7-204752252b1e",
   "metadata": {},
   "outputs": [],
   "source": []
  }
 ],
 "metadata": {
  "kernelspec": {
   "display_name": "Python 3 (ipykernel)",
   "language": "python",
   "name": "python3"
  },
  "language_info": {
   "codemirror_mode": {
    "name": "ipython",
    "version": 3
   },
   "file_extension": ".py",
   "mimetype": "text/x-python",
   "name": "python",
   "nbconvert_exporter": "python",
   "pygments_lexer": "ipython3",
   "version": "3.9.13"
  }
 },
 "nbformat": 4,
 "nbformat_minor": 5
}
