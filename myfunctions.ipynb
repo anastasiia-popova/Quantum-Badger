{
 "cells": [
  {
   "cell_type": "code",
   "execution_count": 1,
   "id": "9ed0f6b2-48b2-46d5-8d98-100ab4abf64a",
   "metadata": {
    "tags": []
   },
   "outputs": [],
   "source": [
    "from quantum_badger import *\n",
    "import os \n",
    "\n",
    "import matplotlib.pyplot as plt\n",
    "%matplotlib inline\n",
    "%config InlineBackend.figure_formats=['svg'] \n",
    "\n",
    "from subprocess import call\n"
   ]
  },
  {
   "cell_type": "code",
   "execution_count": 2,
   "id": "765b7484-8b57-4743-88e8-216c53e08a30",
   "metadata": {},
   "outputs": [],
   "source": [
    "def basis_size_bs(N,M):\n",
    "    \n",
    "    return C_nm(M+N-1,N)\n",
    "\n",
    "def permut(lst):\n",
    "    if len(lst) == 0:\n",
    "        yield []\n",
    "        #return []\n",
    "        \n",
    "    elif len(lst) == 1:\n",
    "        yield lst\n",
    "        \n",
    "        #return [lst]\n",
    "    else:\n",
    "        l = []\n",
    "        prev_x = []\n",
    "        \n",
    "        for i in range(len(lst)):\n",
    "            x = lst[i]\n",
    "            xs = lst[:i] + lst[i+1:]\n",
    "            \n",
    "            if not x in prev_x:\n",
    "                prev_x.append(x)\n",
    "                for p in permut(xs):\n",
    "                    yield [x]+p\n",
    "                    #l.append([x]+p)\n",
    "        return l\n",
    "    \n",
    "def find_partition(k,N):\n",
    "    res = []\n",
    "    \n",
    "    if k == 0:\n",
    "        \n",
    "        return [[]]\n",
    "    \n",
    "    elif k == 1:\n",
    "        \n",
    "        return [[1]]\n",
    "    \n",
    "    i_max = min(k,N)\n",
    "\n",
    "    for i in range(1,i_max+1):\n",
    "        res_i = find_partition(k-i, i)\n",
    "        \n",
    "        for a in res_i:\n",
    "    \n",
    "            res.append([i]+a)\n",
    "        \n",
    "    return res\n",
    "        \n",
    "\n",
    "def gen_states(N,m):\n",
    "    \n",
    "    \n",
    "    res = []\n",
    "    \n",
    "    states = find_partition(N,N)\n",
    "    \n",
    "    for s in states:\n",
    "\n",
    "        if len(s) < m:\n",
    "            zer = m-len(s)\n",
    "            res.append(s + [0]*zer)\n",
    "\n",
    "        else:\n",
    "            res.append(s)\n",
    "            \n",
    "    for r in res:\n",
    "        \n",
    "        if len(r) > m:\n",
    "            \n",
    "            res.remove(r)\n",
    "                \n",
    "    return res\n",
    "        \n",
    "            \n",
    "        \n",
    "def basis_choice(N,m):\n",
    "    \n",
    "    basis = []\n",
    "    \n",
    "    states = gen_states(N,m)\n",
    "    \n",
    "    for s in states:\n",
    "        for p in permut(s):\n",
    "            basis.append(p)\n",
    "        \n",
    "    return basis\n",
    "\n",
    "\n",
    "def prn_to_tr_detectors(samples):\n",
    "    \n",
    "    \"\"\"\n",
    "    Convert a nested list of PRN-detected samples to a list of threshold-detected samples.\n",
    "\n",
    "    Parameters:\n",
    "    samples (list): A nested list of samples with PRN detection. \n",
    "\n",
    "    Returns:\n",
    "    list: A nested list of samples with threshold detection. \n",
    "    \"\"\"\n",
    "    return [[1 if item > 1 else item for item in s] for s in samples]"
   ]
  },
  {
   "cell_type": "code",
   "execution_count": 3,
   "id": "1d1532c2-4aa1-4f1e-85c4-521f349dc101",
   "metadata": {
    "tags": []
   },
   "outputs": [],
   "source": [
    "# Tests \n",
    "\n",
    "def check_matrix(U):\n",
    "    \n",
    "    \"\"\"\n",
    "    Сhecks the matrix for zero elements.\n",
    "    \"\"\"\n",
    "    \n",
    "    condition = np.all(U)\n",
    "    \n",
    "    if condition == True:\n",
    "        \n",
    "        return 'None of the elements of the given matrix is zero'\n",
    "    else:\n",
    "        return 'There are zero elements of the given matrix'\n",
    "    \n",
    "def check_unitarity(U): \n",
    "    \n",
    "    \"\"\"\n",
    "    Сhecks the matrix for unitarity.\n",
    "    \"\"\"\n",
    "    \n",
    "    condition = np.allclose(np.eye(len(U), dtype=np.complex128), U.T.conj() @ U)\n",
    "    \n",
    "    if condition == True:\n",
    "        \n",
    "        return 'The matrix is a unitary one'\n",
    "    else:\n",
    "        return 'The matrix is non-unitary one'\n",
    "    \n",
    "def check_hermitianity(M):\n",
    "    \n",
    "    \"\"\"\n",
    "    Сhecks the matrix for hermitianity.\n",
    "    \"\"\"\n",
    "    \n",
    "    condition = np.allclose(M, M.T.conj())\n",
    "    \n",
    "    if condition == True:\n",
    "        \n",
    "        return 'The matrix is a hermitian one'\n",
    "    else:\n",
    "        return 'The matrix is non-hermitian one'\n",
    "    \n",
    "    \n",
    "def check_set_parameters(U,M):\n",
    "    \n",
    "    assert len(M)==len(U)\n",
    "    \n",
    "    return print(f\"Interferometer matrix U: {check_matrix(U)}; {check_unitarity(U)}\", \n",
    "                 f\"\\n Gaussian matrix M: {check_matrix(M)} ; M.H * M {check_hermitianity(M.T.conj()@ M)}\") \n",
    "    \n",
    "    \n",
    "def check_uniform_sampler_tr(m):\n",
    "    \n",
    "    for s in uniform_sampling_tr(int(1e6),2,m):\n",
    "        if sum(s) != 2:\n",
    "            return print(\"Error: number is clicked detectors wrong.\")\n",
    "        else:\n",
    "            return print(\"Test passed.\")\n",
    "    "
   ]
  },
  {
   "cell_type": "markdown",
   "id": "0cabe0b9-6044-46a9-99a8-e33151897cf6",
   "metadata": {},
   "source": [
    "## Initialize the Gaussian Boson Sampling Emulator"
   ]
  },
  {
   "cell_type": "code",
   "execution_count": 4,
   "id": "1ced554f-39e7-44b2-a48f-ca18eb49fc73",
   "metadata": {},
   "outputs": [
    {
     "name": "stdout",
     "output_type": "stream",
     "text": [
      "Data were exported to /Users/anastasiacertkova/Desktop/Coding/initial_state.dat\n",
      "Data were exported to /Users/anastasiacertkova/Desktop/Coding/matrix_U.dat\n",
      "Data were exported to /Users/anastasiacertkova/Desktop/Coding/GBS_matrix.dat\n"
     ]
    }
   ],
   "source": [
    "# Insert a relative path here (optional)\n",
    "\n",
    "path = os.getcwd()\n",
    "path = path.replace(\"\\\\\" , \"/\" )\n",
    "\n",
    "# Set the GBS device parameters\n",
    "\n",
    "# Number of modes \n",
    "m = 6\n",
    "# Number of input squeezed states\n",
    "n = round(m/2) \n",
    "# Squeezing parameter of the input squeezed vacuum states\n",
    "r = 1.6\n",
    "\n",
    "# Number of beam splitters \n",
    "n_BS = m**2\n",
    "\n",
    "r_, phi_ = input_state(r, m, n) \n",
    "A = set_input(r_, phi_, path)\n",
    "U = get_random_interferometer(m, n_BS, path)\n",
    "\n",
    "# or \n",
    "# U = import_interferometer(path, '/matrix_U.dat') \n",
    "\n",
    "M = set_device_parameters(r, A, U, path)\n",
    "\n",
    "# Tests\n",
    "#check_set_parameters(U,M)\n",
    "\n"
   ]
  },
  {
   "cell_type": "code",
   "execution_count": 8,
   "id": "b0b811fd-d375-4f5b-9a73-728b3433a1fe",
   "metadata": {},
   "outputs": [
    {
     "name": "stdout",
     "output_type": "stream",
     "text": [
      "Frobenius distance between U and U_appr: 0.7\n"
     ]
    }
   ],
   "source": [
    "error = 0.05\n",
    "\n",
    "ind, phi, psi, eta = import_parameters_interferometer(path, '/parameters_of_interferometer.dat')\n",
    "U_appr = interferometer_approx(n_BS, ind, phi, psi, eta, error,  m)\n",
    "\n",
    "print(\"Frobenius distance between U and U_appr:\", round(frobenius_distance(U, U_appr),2) )"
   ]
  },
  {
   "cell_type": "code",
   "execution_count": 30,
   "id": "9140481d-df1f-4953-99ce-dd521a62a160",
   "metadata": {},
   "outputs": [
    {
     "data": {
      "text/plain": [
       "[[1, 0, 0, 1, 0, 1],\n",
       " [1, 1, 1, 0, 0, 0],\n",
       " [0, 1, 1, 0, 1, 0],\n",
       " [0, 1, 1, 1, 0, 0],\n",
       " [1, 1, 1, 0, 0, 0],\n",
       " [0, 1, 1, 0, 0, 1],\n",
       " [0, 1, 0, 1, 1, 0],\n",
       " [1, 0, 0, 1, 1, 0],\n",
       " [1, 1, 0, 0, 1, 0],\n",
       " [0, 1, 0, 1, 1, 0]]"
      ]
     },
     "execution_count": 30,
     "metadata": {},
     "output_type": "execute_result"
    }
   ],
   "source": [
    "batch_size = 10 \n",
    "samples = uniform_sampling_tr(batch_size,n,m)\n",
    "samples"
   ]
  },
  {
   "cell_type": "code",
   "execution_count": 31,
   "id": "dcee7f29-aeb9-4f7e-81c5-13efe764edf1",
   "metadata": {},
   "outputs": [
    {
     "data": {
      "text/plain": [
       "'Data were exported to /Users/anastasiacertkova/Desktop/Coding/samples.dat'"
      ]
     },
     "execution_count": 31,
     "metadata": {},
     "output_type": "execute_result"
    }
   ],
   "source": [
    "export_samples(samples, path, \"/samples.dat\")"
   ]
  },
  {
   "cell_type": "code",
   "execution_count": 32,
   "id": "661f1626-2e80-4595-967a-c014b57851fd",
   "metadata": {},
   "outputs": [
    {
     "data": {
      "text/plain": [
       "[[1, 0, 0, 1, 0, 1],\n",
       " [1, 1, 1, 0, 0, 0],\n",
       " [0, 1, 1, 0, 1, 0],\n",
       " [0, 1, 1, 1, 0, 0],\n",
       " [1, 1, 1, 0, 0, 0],\n",
       " [0, 1, 1, 0, 0, 1],\n",
       " [0, 1, 0, 1, 1, 0],\n",
       " [1, 0, 0, 1, 1, 0],\n",
       " [1, 1, 0, 0, 1, 0],\n",
       " [0, 1, 0, 1, 1, 0]]"
      ]
     },
     "execution_count": 32,
     "metadata": {},
     "output_type": "execute_result"
    }
   ],
   "source": [
    "samples = import_samples(path, \"/samples.dat\")\n",
    "samples"
   ]
  },
  {
   "cell_type": "markdown",
   "id": "aa9f7c97-f5bf-4cc5-863e-8ff980b3a962",
   "metadata": {},
   "source": [
    "## Run the Gaussian Boson Sampling Emulator"
   ]
  },
  {
   "cell_type": "code",
   "execution_count": 187,
   "id": "ada6225b-0f99-4150-b590-03a24c03ba4c",
   "metadata": {},
   "outputs": [
    {
     "name": "stdout",
     "output_type": "stream",
     "text": [
      "0 17602986466456535924 prw-rw---- 0 anastasiacertkova staff 0 0 \"Apr 27 19:58:30 2023\" \"Apr 27 19:58:30 2023\" \"Apr 27 19:58:30 2023\" \"Jan  1 01:00:00 1970\" 16384 0 0 (stdin)\n"
     ]
    }
   ],
   "source": [
    "%%bash\n",
    "\n",
    "stat"
   ]
  },
  {
   "cell_type": "code",
   "execution_count": null,
   "id": "486f82e2-dd1c-4d85-ab1e-497e597043b7",
   "metadata": {},
   "outputs": [],
   "source": [
    "# cmd = \"python3 \" path + r\"GBS.py\" \n",
    "# call(cmd.split(\" \"))"
   ]
  },
  {
   "cell_type": "markdown",
   "id": "65fc3dde-5f34-47ed-b8eb-b153f6cf3d89",
   "metadata": {},
   "source": [
    "## Compute probabilities exactly"
   ]
  },
  {
   "cell_type": "code",
   "execution_count": 8,
   "id": "ea3da8e7-3d3e-4dbe-8f6a-c2d28b910aae",
   "metadata": {},
   "outputs": [],
   "source": [
    "# samples, probabilities = import_gbs_samples(path)"
   ]
  },
  {
   "cell_type": "code",
   "execution_count": 61,
   "id": "8915a249-2dc3-45f0-9b87-7e3e1f81a3cc",
   "metadata": {},
   "outputs": [],
   "source": [
    "def prob_exact(sample, M):\n",
    "    \n",
    "    clicked_detectors = convert_01_0123(sample)    \n",
    "    M_sub = red_mat(M, clicked_detectors)\n",
    "    \n",
    "    m = len(M_sub)\n",
    "    stat =  np.zeros((m+1), dtype = np.float32) \n",
    "    \n",
    "    for i in range(m+1):\n",
    "        detect_event = [1 for j in range(i)] + [0]*(m-i) \n",
    "        permutations = list(permut(detect_event))\n",
    "\n",
    "        if i == 0:\n",
    "            stat[i] += 1.\n",
    "\n",
    "        else:\n",
    "            for j in range(len(permutations)):\n",
    "                stat[i] += Z_i(permutations[j], M_sub)\n",
    "\n",
    "\n",
    "    for c in range(m):\n",
    "        for h in range(c+1, m+1):\n",
    "            stat[h] -= stat[c]*round(factorial(m-c)/(factorial(h-c)*factorial(m - h)))\n",
    "\n",
    "    \n",
    "    if len(M_sub) != len(M): \n",
    "        norm = Z(M_sub)/Z(M)\n",
    "        probability = norm*stat[m]/sum(stat)    \n",
    "    else:\n",
    "        if np.allclose(M_sub, M):\n",
    "            probability = stat[m]/sum(stat) \n",
    "        else:\n",
    "            raise 'Error'\n",
    "    \n",
    "    return probability\n",
    "\n",
    "def Z(M):\n",
    "    \n",
    "    M = M.conjugate().T@M\n",
    "    eig = np.linalg.eigh(M)[0]\n",
    "    \n",
    "    z = 1 \n",
    "    for i in range(len(eig)):\n",
    "        \n",
    "        z *= (1 - 4*eig[i].real)**(-0.5)\n",
    "    \n",
    "    return z\n",
    "\n",
    "def Z_i(sample, M):\n",
    "    \n",
    "    clicked_detectors = convert_01_0123(sample)            \n",
    "    M_sub = red_mat(M, clicked_detectors)\n",
    "    \n",
    "    M_hermitian = M_sub.conjugate().T@M_sub\n",
    "    \n",
    "    eig = np.linalg.eigh(M_hermitian)[0]\n",
    "    \n",
    "    Zi = 1\n",
    "    \n",
    "    for i in range(len(eig)):\n",
    "        \n",
    "        Zi *= (1 - 4*eig[i].real)**(-0.5)\n",
    "    \n",
    "    return Zi"
   ]
  },
  {
   "cell_type": "code",
   "execution_count": 62,
   "id": "f2128807-a266-4d26-9753-44d6e377cfff",
   "metadata": {},
   "outputs": [],
   "source": [
    "probabilities_exact = []\n",
    "\n",
    "for s in samples:\n",
    "    \n",
    "    probabilities_exact.append(prob_exact(s, M))\n",
    "   \n",
    "        "
   ]
  },
  {
   "cell_type": "code",
   "execution_count": 63,
   "id": "6552b689-e40d-42e5-9d11-65f678f8ba6a",
   "metadata": {},
   "outputs": [
    {
     "name": "stdout",
     "output_type": "stream",
     "text": [
      "[1, 0, 0, 1, 0, 1] [0, 3, 5] 0.0023516205792687072\n",
      "[1, 1, 1, 0, 0, 0] [0, 1, 2] 0.0428109111338637\n",
      "[0, 1, 1, 0, 1, 0] [1, 2, 4] 0.004965366324955587\n",
      "[0, 1, 1, 1, 0, 0] [1, 2, 3] 0.0008236983125397499\n",
      "[1, 1, 1, 0, 0, 0] [0, 1, 2] 0.0428109111338637\n",
      "[0, 1, 1, 0, 0, 1] [1, 2, 5] 0.004198310641179851\n",
      "[0, 1, 0, 1, 1, 0] [1, 3, 4] 0.0031474014893197494\n",
      "[1, 0, 0, 1, 1, 0] [0, 3, 4] 0.0007259801386468141\n",
      "[1, 1, 0, 0, 1, 0] [0, 1, 4] 0.004173149809133953\n",
      "[0, 1, 0, 1, 1, 0] [1, 3, 4] 0.0031474014893197494\n"
     ]
    }
   ],
   "source": [
    "for i in range(len(samples)):\n",
    "    print(samples[i],convert_01_0123(samples[i]), probabilities_exact[i])"
   ]
  },
  {
   "cell_type": "code",
   "execution_count": null,
   "id": "9962556d-9141-4d7d-9f77-03aee569fd68",
   "metadata": {},
   "outputs": [],
   "source": []
  }
 ],
 "metadata": {
  "kernelspec": {
   "display_name": "Python 3 (ipykernel)",
   "language": "python",
   "name": "python3"
  },
  "language_info": {
   "codemirror_mode": {
    "name": "ipython",
    "version": 3
   },
   "file_extension": ".py",
   "mimetype": "text/x-python",
   "name": "python",
   "nbconvert_exporter": "python",
   "pygments_lexer": "ipython3",
   "version": "3.9.13"
  }
 },
 "nbformat": 4,
 "nbformat_minor": 5
}
