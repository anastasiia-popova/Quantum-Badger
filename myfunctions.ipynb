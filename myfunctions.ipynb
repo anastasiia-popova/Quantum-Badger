{
 "cells": [
  {
   "cell_type": "code",
   "execution_count": 31,
   "id": "9ed0f6b2-48b2-46d5-8d98-100ab4abf64a",
   "metadata": {
    "tags": []
   },
   "outputs": [],
   "source": [
    "import numpy as np\n",
    "import random\n",
    "import os \n",
    "from math import * \n",
    "\n",
    "import matplotlib.pyplot as plt\n",
    "%matplotlib inline\n",
    "%config InlineBackend.figure_formats=['svg'] \n",
    "\n",
    "\n",
    "from subprocess import call\n",
    "\n"
   ]
  },
  {
   "cell_type": "code",
   "execution_count": 5,
   "id": "765b7484-8b57-4743-88e8-216c53e08a30",
   "metadata": {},
   "outputs": [],
   "source": [
    "def basis_size_bs(N,M):\n",
    "    \n",
    "    return C_nm(M+N-1,N)\n",
    "\n",
    "def permut(lst):\n",
    "    if len(lst) == 0:\n",
    "        yield []\n",
    "        #return []\n",
    "        \n",
    "    elif len(lst) == 1:\n",
    "        yield lst\n",
    "        \n",
    "        #return [lst]\n",
    "    else:\n",
    "        l = []\n",
    "        prev_x = []\n",
    "        \n",
    "        for i in range(len(lst)):\n",
    "            x = lst[i]\n",
    "            xs = lst[:i] + lst[i+1:]\n",
    "            \n",
    "            if not x in prev_x:\n",
    "                prev_x.append(x)\n",
    "                for p in permut(xs):\n",
    "                    yield [x]+p\n",
    "                    #l.append([x]+p)\n",
    "        return l\n",
    "    \n",
    "def find_partition(k,N):\n",
    "    res = []\n",
    "    \n",
    "    if k == 0:\n",
    "        \n",
    "        return [[]]\n",
    "    \n",
    "    elif k == 1:\n",
    "        \n",
    "        return [[1]]\n",
    "    \n",
    "    i_max = min(k,N)\n",
    "\n",
    "    for i in range(1,i_max+1):\n",
    "        res_i = find_partition(k-i, i)\n",
    "        \n",
    "        for a in res_i:\n",
    "    \n",
    "            res.append([i]+a)\n",
    "        \n",
    "    return res\n",
    "        \n",
    "\n",
    "def gen_states(N,m):\n",
    "    \n",
    "    \n",
    "    res = []\n",
    "    \n",
    "    states = find_partition(N,N)\n",
    "    \n",
    "    for s in states:\n",
    "\n",
    "        if len(s) < m:\n",
    "            zer = m-len(s)\n",
    "            res.append(s + [0]*zer)\n",
    "\n",
    "        else:\n",
    "            res.append(s)\n",
    "            \n",
    "    for r in res:\n",
    "        \n",
    "        if len(r) > m:\n",
    "            \n",
    "            res.remove(r)\n",
    "                \n",
    "    return res\n",
    "        \n",
    "            \n",
    "        \n",
    "def basis_choice(N,m):\n",
    "    \n",
    "    basis = []\n",
    "    \n",
    "    states = gen_states(N,m)\n",
    "    \n",
    "    for s in states:\n",
    "        for p in permut(s):\n",
    "            basis.append(p)\n",
    "        \n",
    "    return basis\n",
    "\n",
    "\n",
    "def prn_to_tr_detectors(samples):\n",
    "    \n",
    "    \"\"\"\n",
    "    Convert a nested list of PRN-detected samples to a list of threshold-detected samples.\n",
    "\n",
    "    Parameters:\n",
    "    samples (list): A nested list of samples with PRN detection. \n",
    "\n",
    "    Returns:\n",
    "    list: A nested list of samples with threshold detection. \n",
    "    \"\"\"\n",
    "    return [[1 if item > 1 else item for item in s] for s in samples]"
   ]
  },
  {
   "cell_type": "code",
   "execution_count": 43,
   "id": "1d1532c2-4aa1-4f1e-85c4-521f349dc101",
   "metadata": {
    "tags": []
   },
   "outputs": [],
   "source": [
    "# Tests \n",
    "\n",
    "def check_matrix(U):\n",
    "    \n",
    "    \"\"\"\n",
    "    Сhecks the matrix for zero elements.\n",
    "    \"\"\"\n",
    "    \n",
    "    condition = np.all(U)\n",
    "    \n",
    "    if condition == True:\n",
    "        \n",
    "        return 'None of the elements of the given matrix is zero'\n",
    "    else:\n",
    "        return 'There are zero elements of the given matrix'\n",
    "    \n",
    "def check_unitarity(U): \n",
    "    \n",
    "    \"\"\"\n",
    "    Сhecks the matrix for unitarity.\n",
    "    \"\"\"\n",
    "    \n",
    "    condition = np.allclose(np.eye(len(U), dtype=np.complex128), U.T.conj() @ U)\n",
    "    \n",
    "    if condition == True:\n",
    "        \n",
    "        return 'The matrix is a unitary one'\n",
    "    else:\n",
    "        return 'The matrix is non-unitary one'\n",
    "    \n",
    "def check_hermitianity(M):\n",
    "    \n",
    "    \"\"\"\n",
    "    Сhecks the matrix for hermitianity.\n",
    "    \"\"\"\n",
    "    \n",
    "    condition = np.allclose(M, M.T.conj())\n",
    "    \n",
    "    if condition == True:\n",
    "        \n",
    "        return 'The matrix is a hermitian one'\n",
    "    else:\n",
    "        return 'The matrix is non-hermitian one'\n",
    "    \n",
    "    \n",
    "def check_set_parameters(U,M):\n",
    "    \n",
    "    assert len(M)==len(U)\n",
    "    \n",
    "    return print(f\"Interferometer matrix U: {check_matrix(U)}; {check_unitarity(U)}\", \n",
    "                 f\"\\n Gaussian matrix M: {check_matrix(M)} ; M.H * M {check_hermitianity(M.T.conj()@ M)}\") \n",
    "    \n",
    "    \n",
    "def check_uniform_sampler_tr(m):\n",
    "    \n",
    "    for s in uniform_sampling_tr(int(1e6),2,m):\n",
    "        if sum(s) != 2:\n",
    "            return print(\"Error: number is clicked detectors wrong.\")\n",
    "        else:\n",
    "            return print(\"Test passed.\")\n",
    "    "
   ]
  },
  {
   "cell_type": "markdown",
   "id": "0cabe0b9-6044-46a9-99a8-e33151897cf6",
   "metadata": {},
   "source": [
    "## Initialize the Gaussian Boson Sampling Emulator"
   ]
  },
  {
   "cell_type": "code",
   "execution_count": 10,
   "id": "1ced554f-39e7-44b2-a48f-ca18eb49fc73",
   "metadata": {},
   "outputs": [
    {
     "name": "stdout",
     "output_type": "stream",
     "text": [
      "Data were exported to /Users/anastasiacertkova/Desktop/Coding/GBS_matrix.dat\n"
     ]
    }
   ],
   "source": [
    "# Insert a relative path here (optional)\n",
    "\n",
    "path = os.getcwd()\n",
    "path = path.replace(\"\\\\\" , \"/\" )\n",
    "\n",
    "# Set the GBS device parameters\n",
    "\n",
    "# Number of modes \n",
    "m = 6\n",
    "# Number of input squeezed states\n",
    "n = round(m/2) \n",
    "# Squeezing parameter of the input squeezed vacuum states\n",
    "r = 1.6\n",
    "\n",
    "# Number of beam splitters \n",
    "n_BS = m**2\n",
    "\n",
    "r_, phi_ = input_state(r,m,n) \n",
    "A = set_input(r_, phi_, export = True)\n",
    "U = get_random_interferometer(m, n_BS, export = True)\n",
    "\n",
    "# or \n",
    "# U = import_interferometer(path, '/matrix_U.dat') \n",
    "\n",
    "M = set_device_parameters(r, A, U, export=True)\n",
    "\n",
    "# Tests\n",
    "#check_set_parameters(U,M)\n",
    "\n",
    "# Use default settings \n",
    "# M, U = choose_default_device(m,r, export=True)"
   ]
  },
  {
   "cell_type": "code",
   "execution_count": 143,
   "id": "b0b811fd-d375-4f5b-9a73-728b3433a1fe",
   "metadata": {},
   "outputs": [
    {
     "name": "stdout",
     "output_type": "stream",
     "text": [
      "Frobenius distance between U and U_appr: 0.54\n"
     ]
    }
   ],
   "source": [
    "error = 0.05\n",
    "\n",
    "ind, phi, psi, eta = import_parameters_interferometer(path, '/parameters_of_interferometer.dat')\n",
    "U_appr = interferometer_approx(n_BS, ind, phi, psi, eta, error,  m)\n",
    "\n",
    "print(\"Frobenius distance between U and U_appr:\", round(frobenius_distance(U, U_appr),2) )"
   ]
  },
  {
   "cell_type": "code",
   "execution_count": 33,
   "id": "9140481d-df1f-4953-99ce-dd521a62a160",
   "metadata": {},
   "outputs": [
    {
     "data": {
      "text/plain": [
       "[[0, 1, 0, 0, 1, 1],\n",
       " [0, 1, 1, 1, 0, 0],\n",
       " [0, 0, 1, 1, 0, 1],\n",
       " [0, 0, 1, 0, 1, 1],\n",
       " [0, 1, 1, 1, 0, 0],\n",
       " [0, 1, 0, 1, 1, 0],\n",
       " [1, 1, 0, 1, 0, 0],\n",
       " [1, 0, 0, 1, 0, 1],\n",
       " [0, 1, 1, 0, 1, 0],\n",
       " [0, 0, 1, 1, 1, 0]]"
      ]
     },
     "execution_count": 33,
     "metadata": {},
     "output_type": "execute_result"
    }
   ],
   "source": [
    "batch_size = 10 \n",
    "samples = uniform_sampling_tr(batch_size,n,m)\n",
    "samples"
   ]
  },
  {
   "cell_type": "code",
   "execution_count": 34,
   "id": "dcee7f29-aeb9-4f7e-81c5-13efe764edf1",
   "metadata": {},
   "outputs": [
    {
     "data": {
      "text/plain": [
       "'Data were exported to /Users/anastasiacertkova/Desktop/Coding/samples.dat'"
      ]
     },
     "execution_count": 34,
     "metadata": {},
     "output_type": "execute_result"
    }
   ],
   "source": [
    "export_samples(samples, path, \"/samples.dat\")"
   ]
  },
  {
   "cell_type": "code",
   "execution_count": 257,
   "id": "661f1626-2e80-4595-967a-c014b57851fd",
   "metadata": {},
   "outputs": [
    {
     "data": {
      "text/plain": [
       "[[0, 0, 0, 0, 0, 0],\n",
       " [1, 1, 1, 0, 0, 1],\n",
       " [1, 1, 1, 0, 0, 1],\n",
       " [0, 1, 1, 1, 0, 1],\n",
       " [0, 0, 0, 0, 0, 0],\n",
       " [1, 0, 1, 1, 0, 1],\n",
       " [1, 1, 0, 0, 1, 0],\n",
       " [1, 1, 0, 1, 0, 1],\n",
       " [1, 1, 0, 0, 1, 0],\n",
       " [1, 0, 0, 1, 0, 0]]"
      ]
     },
     "execution_count": 257,
     "metadata": {},
     "output_type": "execute_result"
    }
   ],
   "source": [
    "samples_ = import_samples(path, \"/samples.dat\")\n",
    "samples_"
   ]
  },
  {
   "cell_type": "markdown",
   "id": "aa9f7c97-f5bf-4cc5-863e-8ff980b3a962",
   "metadata": {},
   "source": [
    "## Run the Gaussian Boson Sampling Emulator"
   ]
  },
  {
   "cell_type": "code",
   "execution_count": 187,
   "id": "ada6225b-0f99-4150-b590-03a24c03ba4c",
   "metadata": {},
   "outputs": [
    {
     "name": "stdout",
     "output_type": "stream",
     "text": [
      "0 17602986466456535924 prw-rw---- 0 anastasiacertkova staff 0 0 \"Apr 27 19:58:30 2023\" \"Apr 27 19:58:30 2023\" \"Apr 27 19:58:30 2023\" \"Jan  1 01:00:00 1970\" 16384 0 0 (stdin)\n"
     ]
    }
   ],
   "source": [
    "%%bash\n",
    "\n",
    "stat"
   ]
  },
  {
   "cell_type": "code",
   "execution_count": null,
   "id": "486f82e2-dd1c-4d85-ab1e-497e597043b7",
   "metadata": {},
   "outputs": [],
   "source": [
    "# cmd = \"python3 \" path + r\"GBS.py\" \n",
    "# call(cmd.split(\" \"))"
   ]
  },
  {
   "cell_type": "markdown",
   "id": "65fc3dde-5f34-47ed-b8eb-b153f6cf3d89",
   "metadata": {},
   "source": [
    "## Import data from the the Gaussian Boson Sampling Emulator"
   ]
  },
  {
   "cell_type": "code",
   "execution_count": null,
   "id": "ea3da8e7-3d3e-4dbe-8f6a-c2d28b910aae",
   "metadata": {},
   "outputs": [],
   "source": [
    "samples, probabilities = import_gbs_output(path)"
   ]
  },
  {
   "cell_type": "code",
   "execution_count": null,
   "id": "7a48b2c8-2225-49bd-b6e0-cd67fa30e741",
   "metadata": {},
   "outputs": [],
   "source": [
    "# for p in samples:\n",
    "    \n",
    "#     k = list(p).count(1)\n",
    "#     list_det = covert_01_0123(list(p))\n",
    "    \n",
    "#     if k != 0: \n",
    "#         M_sub = red_mat(M, list_det)\n",
    "#         norm = Z(M_sub)/Z(M)\n",
    "#         P_list_ours.append(norm*prob_exact(M_sub)[k])        \n",
    "#     else:\n",
    "#         P_list_ours.append(prob_exact(M)[k])\n",
    "        \n",
    "\n",
    "#     if k == m:\n",
    "#         P_list_walrus.append(prob_tor(cov, cov))\n",
    "#         P_sum_walrus[k] = prob_tor(cov, cov)\n",
    "        \n",
    "#     else:    \n",
    "#         P_list_walrus.append(threshold_detection_prob(mu, cov, list(p))) #threshold_detection_prob_parallel\n",
    "#         P_sum_walrus[k] += threshold_detection_prob(mu, cov, list(p))"
   ]
  },
  {
   "cell_type": "code",
   "execution_count": 326,
   "id": "9fb5abce-af37-4081-85ff-edd4b33369da",
   "metadata": {},
   "outputs": [
    {
     "data": {
      "text/plain": [
       "2"
      ]
     },
     "execution_count": 326,
     "metadata": {},
     "output_type": "execute_result"
    }
   ],
   "source": [
    "sum([0,1,1])"
   ]
  },
  {
   "cell_type": "code",
   "execution_count": 278,
   "id": "7cfbd686-d896-487f-8080-6c628507cd3b",
   "metadata": {},
   "outputs": [
    {
     "name": "stdout",
     "output_type": "stream",
     "text": [
      "Help on function uniform_sampling_tr in module __main__:\n",
      "\n",
      "uniform_sampling_tr(batch_size, m, n)\n",
      "    Performs uniform sampling of batch_size number of sequences of length m with n clicked elements.\n",
      "    \n",
      "    Args:\n",
      "        batch_size (int): The number of sequences to sample.\n",
      "        m (int): The length of each sequence.\n",
      "        n (int): The number of clicked elements in each sequence.\n",
      "    \n",
      "    Returns:\n",
      "        A list of batch_size number of sequences of length m with n clicked elements.\n",
      "    \n",
      "    Raises:\n",
      "        ValueError: If n is greater than m or less than 0.\n",
      "    \n",
      "    Example:\n",
      "        >>> uniform_sampling_tr(2, 5, 2)\n",
      "        [[1, 1, 0, 0, 0], [1, 0, 0, 0, 1]]\n",
      "\n"
     ]
    }
   ],
   "source": [
    "help(uniform_sampling_tr)"
   ]
  },
  {
   "cell_type": "code",
   "execution_count": 45,
   "id": "6165bbe6-c10f-46ce-95d1-a46d4b98e744",
   "metadata": {},
   "outputs": [
    {
     "data": {
      "text/plain": [
       "[[1, 0, 0, 0, 1, 0],\n",
       " [0, 0, 0, 1, 1, 0],\n",
       " [0, 0, 0, 0, 1, 1],\n",
       " [1, 0, 0, 0, 1, 0],\n",
       " [0, 0, 1, 0, 0, 1],\n",
       " [0, 0, 0, 0, 1, 1],\n",
       " [0, 0, 0, 0, 1, 1],\n",
       " [0, 0, 0, 1, 0, 1],\n",
       " [1, 0, 0, 1, 0, 0],\n",
       " [0, 0, 0, 1, 1, 0]]"
      ]
     },
     "execution_count": 45,
     "metadata": {},
     "output_type": "execute_result"
    }
   ],
   "source": [
    "import quantum_badger as qb\n",
    "\n",
    "qb.uniform_sampling_tr(10,2,6)"
   ]
  },
  {
   "cell_type": "code",
   "execution_count": null,
   "id": "cd451259-c2bc-48a3-a582-7e617801d6d6",
   "metadata": {},
   "outputs": [],
   "source": []
  }
 ],
 "metadata": {
  "kernelspec": {
   "display_name": "Python 3 (ipykernel)",
   "language": "python",
   "name": "python3"
  },
  "language_info": {
   "codemirror_mode": {
    "name": "ipython",
    "version": 3
   },
   "file_extension": ".py",
   "mimetype": "text/x-python",
   "name": "python",
   "nbconvert_exporter": "python",
   "pygments_lexer": "ipython3",
   "version": "3.9.13"
  }
 },
 "nbformat": 4,
 "nbformat_minor": 5
}
