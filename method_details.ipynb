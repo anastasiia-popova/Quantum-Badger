{
 "cells": [
  {
   "cell_type": "code",
   "execution_count": null,
   "id": "794e3e23-6dc2-481b-90c0-842b6df3fd3c",
   "metadata": {},
   "outputs": [],
   "source": [
    "from quantum_badger import *\n",
    "import pandas as pd\n",
    "\n",
    "import matplotlib.pyplot as plt\n",
    "%matplotlib inline\n",
    "%config InlineBackend.figure_formats=['svg'] \n",
    "\n",
    "colors = ['#8ECAE6', '#219EBC', '#023047', '#FFCB47', '#FFB703', '#FB8500', '#BB0A21']"
   ]
  },
  {
   "cell_type": "markdown",
   "id": "ea9d74e0-e8e2-4c32-b626-8b9dbcd4e12a",
   "metadata": {},
   "source": [
    "# Algorithm Demonstration\n",
    "\n",
    "<img src=\"images/qb_image_1.png\" alt=\"Drawing\" style=\"width: 400px;\"/>\n",
    "\n",
    "## Compute all possible probabilities exactly\n",
    "\n",
    "Here we generate [pandas.DataFrame](https://pandas.pydata.org/docs/reference/api/pandas.DataFrame.html) with probabilities of all basis states. \n",
    "\n",
    "First of all, you need to initialize the GBS device. We do not recommend run this notebook if the number of clicked detectors of the device, denoted here as `n`, is larger than 30. \n",
    "\n",
    "Further we will briefly reproduce the logic of our method, which is described in detail [here](https://arxiv.org/pdf/2106.01445.pdf). "
   ]
  },
  {
   "cell_type": "code",
   "execution_count": null,
   "id": "b858c2f1-e9f0-4598-9947-d2a1fe72fa7f",
   "metadata": {},
   "outputs": [],
   "source": [
    "#path = create_path(filename='method_details.ipynb')\n",
    "path = \"/Users/anastasiacertkova/Desktop/Coding/data/06_14-22_08_2023\"\n",
    "m = 8\n",
    "#  Number of input squeezed states\n",
    "n = round(m/2) \n",
    "#  Squeezing parameter of the input squeezed vacuum states\n",
    "r = 1.6\n",
    "#  Number of beam splitters \n",
    "n_BS = m**2\n",
    "\n",
    "M, U = choose_default_device(m, r, path=path)"
   ]
  },
  {
   "cell_type": "code",
   "execution_count": null,
   "id": "17dd16ca-af82-47e3-a16c-e75298598553",
   "metadata": {},
   "outputs": [],
   "source": [
    "df_basis = get_basis_df(M)\n",
    "df_basis.info()\n",
    "df_basis.head()"
   ]
  },
  {
   "cell_type": "markdown",
   "id": "94201d67-9d01-4552-9def-8298e2160abe",
   "metadata": {},
   "source": [
    "#### Find probability of a specific sample in DataFrame"
   ]
  },
  {
   "cell_type": "code",
   "execution_count": null,
   "id": "b8f04771-4d07-437a-8de4-67f9fb669c05",
   "metadata": {},
   "outputs": [],
   "source": [
    "sample = [0]*m \n",
    "\n",
    "# or sample ='00000' without convert_list_to_str() method\n",
    "\n",
    "df_basis[\"probability_exact\"].loc[convert_list_to_str(sample)] "
   ]
  },
  {
   "cell_type": "markdown",
   "id": "451e3fdd-0213-4db7-af0e-79681f5ae047",
   "metadata": {},
   "source": [
    "#### Total probability mass function of a small Gaussian Boson Sampling device"
   ]
  },
  {
   "cell_type": "code",
   "execution_count": null,
   "id": "5a2f7937-8fe8-4f35-aa62-5f2071a8c388",
   "metadata": {},
   "outputs": [],
   "source": [
    "pmf_values = [sum(df_basis[\"probability_exact\"][df_basis[\"n_clicks\"] == n]) for n in range(m+1)]\n",
    "\n",
    "plt.vlines(\n",
    "    range(m+1), \n",
    "    0,\n",
    "    pmf_values, \n",
    "    color = colors[0],\n",
    "    linestyles='dashed'\n",
    ")\n",
    "\n",
    "plt.plot(\n",
    "    range(m+1), \n",
    "    pmf_values,\n",
    "    'o-',\n",
    "    color = colors[1]\n",
    ")\n",
    "\n",
    "plt.yscale('log')\n",
    "plt.xlabel(\"Number of clicks\", fontsize=12)\n",
    "plt.ylabel(\"Probability mass function\", fontsize=12)\n",
    "plt.title(\"PMF for Gaussian Boson Sampling\", fontsize=17);\n",
    "plt.show()"
   ]
  },
  {
   "cell_type": "markdown",
   "id": "ad0b6eb4-99ee-47f5-bbab-1b33574a9488",
   "metadata": {},
   "source": [
    "## What do sectors look like?\n",
    "---\n",
    "#### Total probability mass function of sectors "
   ]
  },
  {
   "cell_type": "code",
   "execution_count": null,
   "id": "3da94bbd-14ac-46dd-9342-dfcb797ee8c6",
   "metadata": {},
   "outputs": [],
   "source": [
    "sample = [1]*(m-2) + [0]*2 # just for example\n",
    "n_clicked = sum(sample)\n",
    "\n",
    "P_sectors = prob_sectors_exact(M, sample=sample)\n",
    "\n",
    "for nu in range(n_clicked,n_clicked*10, n_clicked):\n",
    "    plt.plot(\n",
    "        range(n_clicked+1),\n",
    "        [P_sectors[j,nu] for j in range(n_clicked+1)],\n",
    "        '--' ,\n",
    "        label = 'k='+str(nu)\n",
    ")\n",
    "plt.yscale('log')\n",
    "plt.ylim(10**(-11), 10**(-1))\n",
    "plt.legend(prop={'size':10}, loc='lower left')\n",
    "plt.xlabel(\"Number of clicks\", fontsize=12)\n",
    "plt.ylabel(\"Probability mass function\", fontsize=12)\n",
    "plt.title(\"PMF for sectors\", fontsize=17);\n",
    "plt.show()"
   ]
  },
  {
   "cell_type": "markdown",
   "id": "c8c02598-1d70-4e8c-a45e-996aaa32938f",
   "metadata": {},
   "source": [
    "---\n",
    "#### Probability mass function of sectors for a sample"
   ]
  },
  {
   "cell_type": "code",
   "execution_count": null,
   "id": "4d228542-736e-4b82-a1b4-bf6c9264f00f",
   "metadata": {},
   "outputs": [],
   "source": [
    "sample = [1]*(m-2) + [0]*2 # just for example\n",
    "n_clicked = sum(sample)\n",
    "nu_max = 10*n_clicked\n",
    "\n",
    "\n",
    "plt.plot(\n",
    "        range(nu_max),\n",
    "        [P_sectors[n_clicked,nu] for nu in range(nu_max)],\n",
    "        '-' \n",
    ")\n",
    "plt.yscale('log')\n",
    "#plt.legend(prop={'size':10}, loc='lower left')\n",
    "plt.xlabel(\"Sectors\", fontsize=12)\n",
    "plt.ylabel(\"Probability mass function\", fontsize=12)\n",
    "plt.title(f\"PMF of sectors for {n_clicked} clicked detectors\", fontsize=17);\n",
    "plt.show()"
   ]
  },
  {
   "cell_type": "markdown",
   "id": "6385fb12-d0ee-4563-a837-1ce830d44635",
   "metadata": {},
   "source": [
    "---\n",
    "#### Convergence of a sum over sectors to the exact result "
   ]
  },
  {
   "cell_type": "code",
   "execution_count": null,
   "id": "9dd5a260-ec95-4cd8-8980-ceadaa2e1a6f",
   "metadata": {},
   "outputs": [],
   "source": [
    "# Comparison of calculation of the exact probabilities with and without sectors\n",
    "\n",
    "sample = [1]*(m-2) + [0]*2 # just for example\n",
    "n_clicked = sum(sample)\n",
    "nu_max = 10*n_clicked\n",
    "\n",
    "\n",
    "P_sectors =  prob_sectors_exact(M, sample=sample)\n",
    "\n",
    "P_ = 0\n",
    "for nu in range(nu_max):\n",
    "    P_ += P_sectors[n_clicked,nu]\n",
    "    \n",
    "\n",
    "print(\"Exact probability: \", \"{:.3e}\".format(P_)) \n",
    "print(\"Probability summed over sectors: \",\n",
    "      \"{:.3e}\".format(df_basis[\"probability_exact\"].loc[convert_list_to_str(sample)]))"
   ]
  },
  {
   "cell_type": "markdown",
   "id": "a72011e5-92d3-48a7-9e35-e5e52bbef74d",
   "metadata": {},
   "source": [
    "#### Approximate probability mass function of sectors for a sample"
   ]
  },
  {
   "cell_type": "markdown",
   "id": "0f5e35b1-8d6a-42f7-ad0d-72861044aa69",
   "metadata": {},
   "source": [
    "--- \n",
    "#### Comparison with Strawberry Fields Library"
   ]
  },
  {
   "cell_type": "code",
   "execution_count": null,
   "id": "abc8bcd1-3eb5-4431-a875-dc55ed427c97",
   "metadata": {},
   "outputs": [],
   "source": [
    "import strawberryfields as sf\n",
    "from strawberryfields.ops import *\n",
    "from thewalrus import threshold_detection_prob\n",
    "\n",
    "def sf_result(r_s, phi_s, ind, phi, psi, eta, n_bs, m):\n",
    "\n",
    "    \"\"\"\n",
    "    Here we check our exact probabilities results \n",
    "    with the Walrus https://github.com/XanaduAI/thewalrus\n",
    "    and Strawberry Fields https://github.com/XanaduAI/strawberryfields libraries.  \n",
    "    \"\"\"\n",
    "\n",
    "    prog = sf.Program(m)\n",
    "\n",
    "    eng = sf.Engine(\"gaussian\")\n",
    "\n",
    "    with prog.context as q:\n",
    "\n",
    "        for i in range(m):\n",
    "\n",
    "            Sgate(r_s[i], phi_s[i]) | q[i]\n",
    "\n",
    "        for k in range(n_bs):\n",
    "\n",
    "            Rgate(phi[k]) | q[ind[k,0]]\n",
    "            BSgate(eta[k]) | (q[ind[k,1]], q[ind[k,0]])\n",
    "            Rgate(psi[k]) | q[ind[k,1]]\n",
    "\n",
    "    state = eng.run(prog).state\n",
    "\n",
    "    mu = state.means()\n",
    "    cov = state.cov()\n",
    "\n",
    "    return mu, cov"
   ]
  },
  {
   "cell_type": "code",
   "execution_count": null,
   "id": "4a623370-11ce-4f87-82b6-6775cc27b454",
   "metadata": {},
   "outputs": [],
   "source": [
    "r_, phi_ = import_initial_state(path, \"/initial_state.dat\")\n",
    "ind, phi, psi, eta, n_bs, m = import_parameters_interferometer(path, \"/parameters_of_interferometer.dat\")\n",
    "\n",
    "mu, cov = sf_result(r_, phi_, ind, phi, psi, eta, n_bs, m)\n",
    "proba_sf = []\n",
    "\n",
    "for s in df_basis.index.to_list():\n",
    "    \n",
    "    proba_sf.append(\n",
    "        threshold_detection_prob(mu, cov, convert_str_to_list(s)).real\n",
    "    )\n",
    "\n",
    "    \n",
    "df_basis[\"probability_exact_sf\"] = proba_sf\n",
    "proba_qb = df_basis[\"probability_exact\"].to_list()\n",
    "\n",
    "print(f\"Fidelity between two distributions: {round(fidelity(proba_qb,proba_sf),4)}\")\n",
    "df_basis.head()"
   ]
  },
  {
   "cell_type": "markdown",
   "id": "5d2a7988-7a25-4adc-9422-1f01979d53c4",
   "metadata": {},
   "source": [
    "---\n",
    "### Noisy Interferometer Matrix Generation"
   ]
  },
  {
   "cell_type": "code",
   "execution_count": null,
   "id": "5e76668d-6f1a-4619-befe-72459589bbd2",
   "metadata": {},
   "outputs": [],
   "source": [
    "error = 0.05\n",
    "\n",
    "ind, phi, psi, eta, n_bs, m = import_parameters_interferometer(path, '/parameters_of_interferometer.dat')\n",
    "U_appr = interferometer_approx(n_BS, ind, phi, psi, eta, error,  m)\n",
    "\n",
    "export_complex_matrix(path + r\"/matrix_U_appr.dat\", U_appr)\n",
    "\n",
    "print(\"Frobenius distance between U and U_appr:\", round(frobenius_distance(U, U_appr),2) )"
   ]
  },
  {
   "cell_type": "markdown",
   "id": "777053fd-4fb5-4988-8f34-e5376cf2e6fd",
   "metadata": {},
   "source": [
    "---\n",
    "### Tests for probabilities of all states for 2 interferometers "
   ]
  },
  {
   "cell_type": "code",
   "execution_count": null,
   "id": "5115150a-b904-42ec-9bd5-cf46093c78bd",
   "metadata": {},
   "outputs": [],
   "source": [
    "df_basis_exact = get_basis_df(M)\n",
    "\n",
    "M_appr = set_device_parameters(r, A, U_appr)\n",
    "\n",
    "df_basis_appr = get_basis_df(M_appr)\n",
    "\n",
    "\n",
    "p = df_basis_exact[\"probability_exact\"].to_list()\n",
    "q = df_basis_appr[\"probability_exact\"].to_list()\n",
    "\n",
    "print(f\"Relative Weighted Error: {round(relative_weighted_error(p,q),4)}\")\n",
    "print(f\"Total Variation Distance: {round(total_variation_distance(p,q),4)}\")\n",
    "print(f\"Fidelity: {round(fidelity(p,q),4)}\")\n",
    "print(f\"Cosine Similarity:{round(cosine_similarity(p,q),4)}\")\n",
    "print(f\"Cross Entropy: {round(cross_entropy(p,q),4)}\")"
   ]
  },
  {
   "cell_type": "markdown",
   "id": "02ab7f77-2b2f-4626-938e-933a26007df3",
   "metadata": {},
   "source": [
    "--- \n",
    "### Performance of the algorithm\n",
    "\n",
    "#### The worst case: exact computation of probabilities for all basis states"
   ]
  },
  {
   "cell_type": "code",
   "execution_count": null,
   "id": "cb5a743a-8e0c-4523-b477-20643491d239",
   "metadata": {},
   "outputs": [],
   "source": [
    "# Gives exponential time growth \n",
    "import time\n",
    "\n",
    "time_in_sec = []\n",
    "n_modes = 15\n",
    "\n",
    "for n in range (4, n_modes, 2):\n",
    "    # Generate a random matrix with appropriate size \n",
    "    M, U = choose_default_device(n, r, path=None)\n",
    "    \n",
    "    start_time = time.perf_counter()\n",
    "\n",
    "    # Obtain all possible samples for theshold detection\n",
    "    all_permutations = threshold_basis_set(n)\n",
    "\n",
    "    # Calculate probabilities for all possible samples \n",
    "    probabilities_exact = []\n",
    "\n",
    "    for s in all_permutations:\n",
    "        probabilities_exact.append(prob_exact(s, M))\n",
    "        \n",
    "    time_in_sec.append(time.perf_counter() - start_time)\n",
    "    "
   ]
  },
  {
   "cell_type": "code",
   "execution_count": null,
   "id": "28ed84e1-1a81-4b12-ac67-f8a2920d502b",
   "metadata": {},
   "outputs": [],
   "source": [
    "plt.loglog([n for n in range (4, n_modes, 2)], time_in_sec)\n",
    "plt.xlabel(\"Number of modes\")\n",
    "plt.ylabel(\"Time\")\n",
    "plt.title(\"Log-Log Plot: GBS with threshold detectors\");"
   ]
  },
  {
   "cell_type": "code",
   "execution_count": null,
   "id": "8c235593-19cd-4d23-9e81-be1166914488",
   "metadata": {},
   "outputs": [],
   "source": [
    "# All states of threshold detectors computation:  \n",
    "\n",
    "time_in_sec = []\n",
    "n_modes = 24\n",
    "\n",
    "for n in range (4, n_modes, 2):\n",
    "    \n",
    "    start_time = time.perf_counter()\n",
    "\n",
    "    # Obtain all possible samples for theshold detection\n",
    "    all_permutations = threshold_basis_set(n)\n",
    "\n",
    "    \n",
    "    time_in_sec.append(time.perf_counter() - start_time)"
   ]
  },
  {
   "cell_type": "code",
   "execution_count": null,
   "id": "2a407112-761b-40ab-8fc7-bbf3ce9a4cc2",
   "metadata": {},
   "outputs": [],
   "source": [
    "plt.loglog([n for n in range (4, n_modes, 2)], time_in_sec)\n",
    "plt.xlabel(\"Number of modes\")\n",
    "plt.ylabel(\"Time\")\n",
    "plt.title(\"Log-Log Plot: all states\");"
   ]
  },
  {
   "cell_type": "code",
   "execution_count": null,
   "id": "fbbf205a-db03-4167-adcf-6505a68284f3",
   "metadata": {},
   "outputs": [],
   "source": [
    "# Just for comparison, we also plot a uniform sampling \n",
    "time_in_sec = []\n",
    "n_modes = 500\n",
    "batch_size = 10 \n",
    "\n",
    "for n in range (4, n_modes, 2):\n",
    "    \n",
    "    start_time = time.perf_counter()\n",
    "\n",
    "    samples = uniform_sampling_tr(batch_size, n, 2*n)\n",
    "    \n",
    "    time_in_sec.append(time.perf_counter() - start_time)"
   ]
  },
  {
   "cell_type": "code",
   "execution_count": null,
   "id": "d69b0569-385c-4572-a618-55447973a11e",
   "metadata": {},
   "outputs": [],
   "source": [
    "plt.loglog([n for n in range (4, n_modes, 2)], time_in_sec)\n",
    "plt.xlabel(\"Number of clicked detectors\")\n",
    "plt.ylabel(\"Time\")\n",
    "plt.title(\"Log-Log Plot: Uniform Sampling\");"
   ]
  }
 ],
 "metadata": {
  "kernelspec": {
   "display_name": "Python 3 (ipykernel)",
   "language": "python",
   "name": "python3"
  },
  "language_info": {
   "codemirror_mode": {
    "name": "ipython",
    "version": 3
   },
   "file_extension": ".py",
   "mimetype": "text/x-python",
   "name": "python",
   "nbconvert_exporter": "python",
   "pygments_lexer": "ipython3",
   "version": "3.9.13"
  }
 },
 "nbformat": 4,
 "nbformat_minor": 5
}
