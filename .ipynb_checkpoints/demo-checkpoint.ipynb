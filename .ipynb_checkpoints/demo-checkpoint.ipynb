{
 "cells": [
  {
   "cell_type": "code",
   "execution_count": 1,
   "id": "9ed0f6b2-48b2-46d5-8d98-100ab4abf64a",
   "metadata": {
    "tags": []
   },
   "outputs": [],
   "source": [
    "from quantum_badger import *\n",
    "import matplotlib.pyplot as plt\n",
    "%matplotlib inline\n",
    "%config InlineBackend.figure_formats=['svg'] \n",
    "\n",
    "import pandas as pd\n",
    "\n",
    "colors = ['#8ECAE6', '#219EBC', '#023047', '#FFCB47', '#FFB703', '#FB8500', '#BB0A21']\n",
    "\n",
    "from numba import njit\n"
   ]
  },
  {
   "cell_type": "markdown",
   "id": "0cabe0b9-6044-46a9-99a8-e33151897cf6",
   "metadata": {
    "tags": []
   },
   "source": [
    "## Initialize the Gaussian Boson Sampling Emulator"
   ]
  },
  {
   "cell_type": "code",
   "execution_count": 2,
   "id": "62f711b1-6242-4992-86ef-4c3118fb0ada",
   "metadata": {
    "tags": []
   },
   "outputs": [
    {
     "data": {
      "text/plain": [
       "'/Users/anastasiacertkova/Desktop/Coding/data/59_15-15_06_2023'"
      ]
     },
     "execution_count": 2,
     "metadata": {},
     "output_type": "execute_result"
    }
   ],
   "source": [
    "path = return_path_(filename='demo.ipynb')\n",
    "path"
   ]
  },
  {
   "cell_type": "code",
   "execution_count": 3,
   "id": "664775d9-e95a-4d72-a554-aa0c46a657d7",
   "metadata": {
    "tags": []
   },
   "outputs": [
    {
     "name": "stdout",
     "output_type": "stream",
     "text": [
      "Data were exported to /Users/anastasiacertkova/Desktop/Coding/data/59_15-15_06_2023/initial_state.dat\n",
      "Data were exported to /Users/anastasiacertkova/Desktop/Coding/data/59_15-15_06_2023/matrix_U.dat\n",
      "Data were exported to /Users/anastasiacertkova/Desktop/Coding/data/59_15-15_06_2023/GBS_matrix.dat\n"
     ]
    }
   ],
   "source": [
    "# Set the GBS device parameters\n",
    "\n",
    "random.seed(42)\n",
    "\n",
    "# Number of modes \n",
    "m = 8\n",
    "# Number of input squeezed states\n",
    "n = round(m/2) \n",
    "# Squeezing parameter of the input squeezed vacuum states\n",
    "r = 1.6\n",
    "\n",
    "# Number of beam splitters \n",
    "n_BS = m**2\n",
    "\n",
    "r_, phi_ = input_state(r, m, n) \n",
    "A = set_input(r_, phi_, path)\n",
    "U = get_random_interferometer(m, n_BS, path)\n",
    "\n",
    "# or \n",
    "# U = import_interferometer(path, 'input/matrix_U.dat') \n",
    "\n",
    "M = set_device_parameters(r, A, U, path)\n",
    "# or \n",
    "# M, m, n, r, n_cutoff, n_mc, batch_size = import_input(path, \"input/GBS_matrix.dat\")\n",
    "\n",
    "# Tests\n",
    "#check_set_parameters(U,M)"
   ]
  },
  {
   "cell_type": "code",
   "execution_count": 4,
   "id": "0fe95da6-d7f0-432f-b084-ad54b9593733",
   "metadata": {},
   "outputs": [
    {
     "name": "stdout",
     "output_type": "stream",
     "text": [
      "Data were imported from /Users/anastasiacertkova/Desktop/Coding/data/59_15-15_06_2023/GBS_matrix.dat\n"
     ]
    }
   ],
   "source": [
    "M, m, n, r, n_cutoff, n_mc, batch_size = import_input(path, \"/GBS_matrix.dat\")"
   ]
  },
  {
   "cell_type": "code",
   "execution_count": null,
   "id": "b0b811fd-d375-4f5b-9a73-728b3433a1fe",
   "metadata": {
    "tags": []
   },
   "outputs": [],
   "source": [
    "error = 0.05\n",
    "\n",
    "ind, phi, psi, eta = import_parameters_interferometer(path, '/parameters_of_interferometer.dat')\n",
    "U_appr = interferometer_approx(n_BS, ind, phi, psi, eta, error,  m)\n",
    "\n",
    "print(\"Frobenius distance between U and U_appr:\", round(frobenius_distance(U, U_appr),2) )"
   ]
  },
  {
   "cell_type": "code",
   "execution_count": 5,
   "id": "9140481d-df1f-4953-99ce-dd521a62a160",
   "metadata": {
    "tags": []
   },
   "outputs": [
    {
     "data": {
      "text/plain": [
       "[[1, 1, 0, 1, 0, 1, 0, 0],\n",
       " [1, 0, 1, 0, 0, 0, 1, 1],\n",
       " [0, 0, 1, 0, 1, 1, 0, 1],\n",
       " [0, 0, 1, 0, 1, 1, 1, 0],\n",
       " [1, 1, 1, 0, 0, 0, 0, 1],\n",
       " [1, 0, 0, 0, 1, 0, 1, 1],\n",
       " [0, 0, 1, 0, 0, 1, 1, 1],\n",
       " [1, 0, 0, 0, 1, 0, 1, 1],\n",
       " [0, 1, 1, 0, 1, 0, 1, 0],\n",
       " [1, 0, 0, 1, 0, 1, 0, 1]]"
      ]
     },
     "execution_count": 5,
     "metadata": {},
     "output_type": "execute_result"
    }
   ],
   "source": [
    "batch_size = 10 \n",
    "samples = uniform_sampling_tr(batch_size,n,m)\n",
    "samples"
   ]
  },
  {
   "cell_type": "code",
   "execution_count": 6,
   "id": "dcee7f29-aeb9-4f7e-81c5-13efe764edf1",
   "metadata": {},
   "outputs": [
    {
     "data": {
      "text/plain": [
       "'Data were exported to /Users/anastasiacertkova/Desktop/Coding/data/59_15-15_06_2023/samples.dat'"
      ]
     },
     "execution_count": 6,
     "metadata": {},
     "output_type": "execute_result"
    }
   ],
   "source": [
    "export_samples(samples, path, \"/samples.dat\")"
   ]
  },
  {
   "cell_type": "code",
   "execution_count": 7,
   "id": "661f1626-2e80-4595-967a-c014b57851fd",
   "metadata": {},
   "outputs": [
    {
     "data": {
      "text/plain": [
       "[[1, 1, 0, 1, 0, 1, 0, 0],\n",
       " [1, 0, 1, 0, 0, 0, 1, 1],\n",
       " [0, 0, 1, 0, 1, 1, 0, 1],\n",
       " [0, 0, 1, 0, 1, 1, 1, 0],\n",
       " [1, 1, 1, 0, 0, 0, 0, 1],\n",
       " [1, 0, 0, 0, 1, 0, 1, 1],\n",
       " [0, 0, 1, 0, 0, 1, 1, 1],\n",
       " [1, 0, 0, 0, 1, 0, 1, 1],\n",
       " [0, 1, 1, 0, 1, 0, 1, 0],\n",
       " [1, 0, 0, 1, 0, 1, 0, 1]]"
      ]
     },
     "execution_count": 7,
     "metadata": {},
     "output_type": "execute_result"
    }
   ],
   "source": [
    "samples = import_samples(path, \"/samples.dat\")\n",
    "samples"
   ]
  },
  {
   "cell_type": "markdown",
   "id": "65fc3dde-5f34-47ed-b8eb-b153f6cf3d89",
   "metadata": {},
   "source": [
    "## Compute probabilities exactly"
   ]
  },
  {
   "cell_type": "code",
   "execution_count": null,
   "id": "ea3da8e7-3d3e-4dbe-8f6a-c2d28b910aae",
   "metadata": {},
   "outputs": [],
   "source": [
    "# samples, probabilities = import_gbs_samples(path)"
   ]
  },
  {
   "cell_type": "code",
   "execution_count": null,
   "id": "357f68c1-7121-4f11-b5a3-dbfa3dcda6ed",
   "metadata": {},
   "outputs": [],
   "source": [
    "def get_basis_df(M):\n",
    "    \n",
    "    m = len(M)\n",
    "    \n",
    "    # Obtain all possible samples for theshold detection\n",
    "    all_permutations = threshold_basis_set(m)\n",
    "    \n",
    "    # Calculate probabilities for all possible samples \n",
    "\n",
    "    probabilities_exact = []\n",
    "\n",
    "    for s in all_permutations:\n",
    "        probabilities_exact.append(prob_exact(s, M))\n",
    "        \n",
    "    basis_dictionary = {\n",
    "        str(all_permutations[i]): [sum(all_permutations[i]), probabilities_exact[i]] \n",
    "        for i in range(len(all_permutations))\n",
    "    }\n",
    "    \n",
    "    df_basis = (\n",
    "    pd.DataFrame\n",
    "    .from_dict(\n",
    "        basis_dictionary, \n",
    "        orient='index',\n",
    "        columns=[\"n_clicks\",\"probability_exact\"])\n",
    "    )\n",
    "\n",
    "    df_basis.index.name = \"sample\"\n",
    "    \n",
    "    # Sum all probabilities to obtain 1 \n",
    "    print(\"sum prob:\", sum(probabilities_exact))\n",
    "    \n",
    "    return df_basis\n"
   ]
  },
  {
   "cell_type": "code",
   "execution_count": null,
   "id": "843eeca0-195f-4dd9-a290-1e79686783b7",
   "metadata": {},
   "outputs": [],
   "source": [
    "df_basis = get_basis_df(M)\n",
    "df_basis.info()\n",
    "df_basis.head()"
   ]
  },
  {
   "cell_type": "code",
   "execution_count": null,
   "id": "d3c2c9c2-6f28-4362-a142-f5bb6ab2a7ee",
   "metadata": {},
   "outputs": [],
   "source": [
    "# Find probability of a specific sample in DataFrame\n",
    "sample = [0]*m\n",
    "df_basis[\"probability_exact\"].loc[str(sample)] "
   ]
  },
  {
   "cell_type": "code",
   "execution_count": null,
   "id": "75f278a9-db33-407f-907a-88d38764c55c",
   "metadata": {},
   "outputs": [],
   "source": [
    "pmf_values = [sum(df_basis[\"probability_exact\"][df_basis[\"n_clicks\"] == n]) for n in range(m+1)]\n",
    "\n",
    "plt.vlines(\n",
    "    range(m+1), \n",
    "    0,\n",
    "    pmf_values, \n",
    "    color = colors[0],\n",
    "    linestyles='dashed'\n",
    ")\n",
    "\n",
    "plt.plot(\n",
    "    range(m+1), \n",
    "    pmf_values,\n",
    "    'o-',\n",
    "    color = colors[1]\n",
    ")\n",
    "\n",
    "plt.yscale('log')\n",
    "plt.xlabel(\"Number of clicks\", fontsize=12)\n",
    "plt.ylabel(\"Probability mass function\", fontsize=12)\n",
    "plt.title(\"PMF for Gaussian Boson Sampling\", fontsize=17);\n",
    "plt.show()"
   ]
  },
  {
   "cell_type": "code",
   "execution_count": null,
   "id": "23775997-0dbf-4217-af97-9358ba1361df",
   "metadata": {},
   "outputs": [],
   "source": [
    "# Test: comparison exact probabilities with sf for the small problem"
   ]
  },
  {
   "cell_type": "code",
   "execution_count": null,
   "id": "f7b74a13-a55f-4b00-a9e4-0a3eaac9852d",
   "metadata": {},
   "outputs": [],
   "source": [
    "# Compute probabilities for sectors exactly\n",
    "\n",
    "def prob_sectors_exact(M, sample=[1]*len(M), nu_max=10*len(M)):\n",
    "    \n",
    "    \"\"\"\n",
    "    Calculates the exact probabilities over sectors for a given sample \n",
    "    and Gaussian matrix.\n",
    "\n",
    "    Args:\n",
    "        M (numpy.ndarray): The Gaussian matrix for computation.\n",
    "        sample (list, optional): The sample to calculate the probabilities for. Defaults to [1]*len(M).\n",
    "        nu_max (int, optional): The maximum value for the parameter 'nu'. Defaults to 10*len(M).\n",
    "\n",
    "    Returns:\n",
    "        numpy.ndarray: The exact probabilities over sectors for the given sample and Gaussian matrix.\n",
    "\n",
    "        \n",
    "    \"\"\"\n",
    " \n",
    "    \n",
    "    clicked_detectors = convert_01_0123(sample)    \n",
    "    M_sub = red_mat(M, clicked_detectors)\n",
    "\n",
    "    dnu = 2 * np.pi / nu_max\n",
    "    m = len(M_sub)\n",
    "\n",
    "    stat = np.zeros((m + 1, nu_max), dtype=np.complex128)\n",
    "    sectors = np.zeros((m + 1, nu_max), dtype=np.float64)\n",
    "                    \n",
    "    for i in range(m+1):\n",
    "        detect_event = [1 for j in range(i)] + [0]*(m-i) \n",
    "        permutations = list(permut(detect_event))\n",
    "\n",
    "        if i == 0:\n",
    "            for nu in range(nu_max):\n",
    "                stat[i,nu] += 1\n",
    "\n",
    "        else:\n",
    "            for nu in range(nu_max):\n",
    "                for s in permutations:\n",
    "                    stat[i,nu] += Z_i(s, M_sub, nu=nu*dnu) \n",
    "                    \n",
    "    for k in range(m):\n",
    "        for h in range(k + 1, m + 1):\n",
    "            for nu in range(nu_max):\n",
    "                stat[h, nu] -= stat[k, nu] * number_of_comb(m - k, m - h)\n",
    "\n",
    "    for n in range(m + 1):\n",
    "        for j in range(nu_max):\n",
    "            for k in range(nu_max):\n",
    "                sectors[n, j] += (stat[n, k]*np.exp(-1j*j*k*dnu)/nu_max).real\n",
    "                \n",
    "    return sectors/Z(M)"
   ]
  },
  {
   "cell_type": "code",
   "execution_count": null,
   "id": "f74828d0-dc6d-4a34-8aa4-61d262b8ebbd",
   "metadata": {},
   "outputs": [],
   "source": [
    "nu_max =  m*10\n",
    "\n",
    "P_sectors = prob_sectors_exact(M,sample=[1]*m, nu_max=nu_max)\n",
    "\n",
    "for nu in range(m,m*10,m):\n",
    "    plt.plot(\n",
    "        range(m+1),\n",
    "        [P_sectors[j,nu] for j in range(m+1)],\n",
    "        '--' ,\n",
    "        label = 'k='+str(nu)\n",
    ")\n",
    "plt.yscale('log')\n",
    "plt.legend(prop={'size':10}, loc='lower left')\n",
    "plt.xlabel(\"Number of clicks\", fontsize=12)\n",
    "plt.ylabel(\"Probability mass function\", fontsize=12)\n",
    "plt.title(\"PMF for sectors\", fontsize=17);\n",
    "plt.show()"
   ]
  },
  {
   "cell_type": "code",
   "execution_count": null,
   "id": "a3325b9e-cf53-4b69-8606-8723768592c3",
   "metadata": {},
   "outputs": [],
   "source": [
    "n_clicked = m\n",
    "plt.plot(\n",
    "        range(nu_max),\n",
    "        [P_sectors[n_clicked,nu] for nu in range(nu_max)],\n",
    "        '-' \n",
    ")\n",
    "plt.yscale('log')\n",
    "#plt.legend(prop={'size':10}, loc='lower left')\n",
    "plt.xlabel(\"Sectors\", fontsize=12)\n",
    "plt.ylabel(\"Probability mass function\", fontsize=12)\n",
    "plt.title(f\"PMF of sectors for {n_clicked} clicked detectors\", fontsize=17);\n",
    "plt.show()"
   ]
  },
  {
   "cell_type": "code",
   "execution_count": null,
   "id": "f34096fa-4179-4e22-a337-ede0778022eb",
   "metadata": {},
   "outputs": [],
   "source": [
    "# Comparison of calculation of the exact probabilities with and without sectors\n",
    "nu_max = 10*m\n",
    "list_det = [1]*3 +[0]*(m-3)\n",
    "\n",
    "\n",
    "P_sectors =  prob_sectors_exact(M, sample=list_det,nu_max=nu_max)\n",
    "\n",
    "P_ = 0\n",
    "for nu in range(nu_max):\n",
    "    P_ += P_sectors[sum(list_det),nu]\n",
    "    \n",
    "print(P_, df_basis[\"probability_exact\"].loc[str(list_det)])"
   ]
  },
  {
   "cell_type": "markdown",
   "id": "aeed9ff3-2799-4ff4-a10f-1c558afbc213",
   "metadata": {},
   "source": [
    "## Compute submatrices according to samples"
   ]
  },
  {
   "cell_type": "code",
   "execution_count": null,
   "id": "c8507c04-3fdb-40a1-b51c-c5779359778c",
   "metadata": {},
   "outputs": [],
   "source": [
    "# Export submatrices for samples\n",
    "submatriсes_export(M, samples, path)"
   ]
  },
  {
   "cell_type": "markdown",
   "id": "21ea50b9-68e7-4f9e-9287-770e241a316a",
   "metadata": {},
   "source": [
    "## Get approximate probabilities"
   ]
  },
  {
   "cell_type": "code",
   "execution_count": null,
   "id": "02d2f00b-8972-49d6-8840-ec6c151d1b06",
   "metadata": {},
   "outputs": [],
   "source": [
    "def get_approx_probabilities( path ):\n",
    "\n",
    "    data_ids = np.genfromtxt(path + '/input/samples_ids.dat', dtype=str)\n",
    "\n",
    "    ids = [int(i) for i in data_ids[:,0]]\n",
    "    samples = data_ids[:,1]\n",
    "\n",
    "    dict_probabilities = {}\n",
    "\n",
    "    for i in ids:\n",
    "        sample = samples[i]\n",
    "        \n",
    "        moments = MomentUtility(id_ = i)\n",
    "        moments.export_minors()\n",
    "        moments.export_moments()\n",
    "        \n",
    "        cumulants = CumulantUtility(id_ = i)\n",
    "        probability_approx_2, probability_approx_3, probability_approx_4 = cumulants.prob_approx()\n",
    "\n",
    "        dict_probabilities[sample] = (\n",
    "            [\n",
    "                probability_approx_2, \n",
    "                probability_approx_3, \n",
    "                probability_approx_4\n",
    "            ]\n",
    "        )\n",
    "        \n",
    "    return  dict_probabilities"
   ]
  },
  {
   "cell_type": "code",
   "execution_count": null,
   "id": "e1dce997-61ae-44ef-a682-d7d125fcf687",
   "metadata": {},
   "outputs": [],
   "source": [
    "dict_probabilities = get_approx_probabilities(path=path)"
   ]
  },
  {
   "cell_type": "code",
   "execution_count": 8,
   "id": "7bd4d9ef-77cd-4149-9119-9f22661d7be8",
   "metadata": {},
   "outputs": [
    {
     "name": "stdout",
     "output_type": "stream",
     "text": [
      "Data were imported from /Users/anastasiacertkova/Desktop/Coding/data/59_15-15_06_2023/GBS_matrix.dat\n"
     ]
    },
    {
     "ename": "KeyboardInterrupt",
     "evalue": "",
     "output_type": "error",
     "traceback": [
      "\u001b[0;31m---------------------------------------------------------------------------\u001b[0m",
      "\u001b[0;31mKeyboardInterrupt\u001b[0m                         Traceback (most recent call last)",
      "\u001b[0;32m/var/folders/d4/v5xmg8w567957dly2bs_qpfm0000gn/T/ipykernel_65325/2490569780.py\u001b[0m in \u001b[0;36m<module>\u001b[0;34m\u001b[0m\n\u001b[0;32m----> 1\u001b[0;31m \u001b[0mdict_probabilities\u001b[0m \u001b[0;34m=\u001b[0m \u001b[0mcompute_probabilities\u001b[0m\u001b[0;34m(\u001b[0m\u001b[0msamples\u001b[0m\u001b[0;34m,\u001b[0m \u001b[0mpath\u001b[0m\u001b[0;34m=\u001b[0m\u001b[0mpath\u001b[0m\u001b[0;34m)\u001b[0m\u001b[0;34m\u001b[0m\u001b[0;34m\u001b[0m\u001b[0m\n\u001b[0m",
      "\u001b[0;32m~/Desktop/Coding/quantum_badger.py\u001b[0m in \u001b[0;36mcompute_probabilities\u001b[0;34m(samples, path)\u001b[0m\n\u001b[1;32m   2210\u001b[0m     \u001b[0msubmatriсes_export\u001b[0m\u001b[0;34m(\u001b[0m\u001b[0mM\u001b[0m\u001b[0;34m,\u001b[0m \u001b[0msamples\u001b[0m\u001b[0;34m,\u001b[0m \u001b[0mpath\u001b[0m\u001b[0;34m)\u001b[0m\u001b[0;34m\u001b[0m\u001b[0;34m\u001b[0m\u001b[0m\n\u001b[1;32m   2211\u001b[0m \u001b[0;34m\u001b[0m\u001b[0m\n\u001b[0;32m-> 2212\u001b[0;31m     \u001b[0mdict_probabilities\u001b[0m \u001b[0;34m=\u001b[0m \u001b[0mget_approx_probabilities\u001b[0m\u001b[0;34m(\u001b[0m\u001b[0mpath\u001b[0m \u001b[0;34m=\u001b[0m \u001b[0mpath\u001b[0m\u001b[0;34m)\u001b[0m\u001b[0;34m\u001b[0m\u001b[0;34m\u001b[0m\u001b[0m\n\u001b[0m\u001b[1;32m   2213\u001b[0m \u001b[0;34m\u001b[0m\u001b[0m\n\u001b[1;32m   2214\u001b[0m     \u001b[0;32mreturn\u001b[0m \u001b[0mdict_probabilities\u001b[0m\u001b[0;34m\u001b[0m\u001b[0;34m\u001b[0m\u001b[0m\n",
      "\u001b[0;32m~/Desktop/Coding/quantum_badger.py\u001b[0m in \u001b[0;36mget_approx_probabilities\u001b[0;34m(path)\u001b[0m\n\u001b[1;32m   2188\u001b[0m \u001b[0;34m\u001b[0m\u001b[0m\n\u001b[1;32m   2189\u001b[0m         \u001b[0mmoments\u001b[0m \u001b[0;34m=\u001b[0m \u001b[0mMomentUtility\u001b[0m\u001b[0;34m(\u001b[0m\u001b[0mid_\u001b[0m \u001b[0;34m=\u001b[0m \u001b[0mi\u001b[0m\u001b[0;34m,\u001b[0m \u001b[0mpath\u001b[0m\u001b[0;34m=\u001b[0m\u001b[0mpath\u001b[0m\u001b[0;34m)\u001b[0m\u001b[0;34m\u001b[0m\u001b[0;34m\u001b[0m\u001b[0m\n\u001b[0;32m-> 2190\u001b[0;31m         \u001b[0mmoments\u001b[0m\u001b[0;34m.\u001b[0m\u001b[0mexport_minors\u001b[0m\u001b[0;34m(\u001b[0m\u001b[0;34m)\u001b[0m\u001b[0;34m\u001b[0m\u001b[0;34m\u001b[0m\u001b[0m\n\u001b[0m\u001b[1;32m   2191\u001b[0m         \u001b[0mmoments\u001b[0m\u001b[0;34m.\u001b[0m\u001b[0mexport_moments\u001b[0m\u001b[0;34m(\u001b[0m\u001b[0;34m)\u001b[0m\u001b[0;34m\u001b[0m\u001b[0;34m\u001b[0m\u001b[0m\n\u001b[1;32m   2192\u001b[0m \u001b[0;34m\u001b[0m\u001b[0m\n",
      "\u001b[0;32m~/Desktop/Coding/quantum_badger.py\u001b[0m in \u001b[0;36mexport_minors\u001b[0;34m(self)\u001b[0m\n\u001b[1;32m   1603\u001b[0m         \u001b[0mcmd\u001b[0m \u001b[0;34m=\u001b[0m \u001b[0;34m\"cpp/Minors.cpp\"\u001b[0m\u001b[0;34m\u001b[0m\u001b[0;34m\u001b[0m\u001b[0m\n\u001b[1;32m   1604\u001b[0m         \u001b[0msubprocess\u001b[0m\u001b[0;34m.\u001b[0m\u001b[0mcall\u001b[0m\u001b[0;34m(\u001b[0m\u001b[0;34m[\u001b[0m\u001b[0;34m\"g++\"\u001b[0m\u001b[0;34m,\u001b[0m \u001b[0mcmd\u001b[0m\u001b[0;34m]\u001b[0m\u001b[0;34m)\u001b[0m\u001b[0;34m\u001b[0m\u001b[0;34m\u001b[0m\u001b[0m\n\u001b[0;32m-> 1605\u001b[0;31m         \u001b[0msubprocess\u001b[0m\u001b[0;34m.\u001b[0m\u001b[0mcall\u001b[0m\u001b[0;34m(\u001b[0m\u001b[0;34m\"./a.out\"\u001b[0m\u001b[0;34m)\u001b[0m\u001b[0;34m\u001b[0m\u001b[0;34m\u001b[0m\u001b[0m\n\u001b[0m\u001b[1;32m   1606\u001b[0m         \u001b[0;31m#print(\"Finished:\", cmd.split(\"/\")[1], f\"for sample #{index}\")\u001b[0m\u001b[0;34m\u001b[0m\u001b[0;34m\u001b[0m\u001b[0m\n\u001b[1;32m   1607\u001b[0m \u001b[0;34m\u001b[0m\u001b[0m\n",
      "\u001b[0;32m~/opt/anaconda3/lib/python3.9/subprocess.py\u001b[0m in \u001b[0;36mcall\u001b[0;34m(timeout, *popenargs, **kwargs)\u001b[0m\n\u001b[1;32m    349\u001b[0m     \u001b[0;32mwith\u001b[0m \u001b[0mPopen\u001b[0m\u001b[0;34m(\u001b[0m\u001b[0;34m*\u001b[0m\u001b[0mpopenargs\u001b[0m\u001b[0;34m,\u001b[0m \u001b[0;34m**\u001b[0m\u001b[0mkwargs\u001b[0m\u001b[0;34m)\u001b[0m \u001b[0;32mas\u001b[0m \u001b[0mp\u001b[0m\u001b[0;34m:\u001b[0m\u001b[0;34m\u001b[0m\u001b[0;34m\u001b[0m\u001b[0m\n\u001b[1;32m    350\u001b[0m         \u001b[0;32mtry\u001b[0m\u001b[0;34m:\u001b[0m\u001b[0;34m\u001b[0m\u001b[0;34m\u001b[0m\u001b[0m\n\u001b[0;32m--> 351\u001b[0;31m             \u001b[0;32mreturn\u001b[0m \u001b[0mp\u001b[0m\u001b[0;34m.\u001b[0m\u001b[0mwait\u001b[0m\u001b[0;34m(\u001b[0m\u001b[0mtimeout\u001b[0m\u001b[0;34m=\u001b[0m\u001b[0mtimeout\u001b[0m\u001b[0;34m)\u001b[0m\u001b[0;34m\u001b[0m\u001b[0;34m\u001b[0m\u001b[0m\n\u001b[0m\u001b[1;32m    352\u001b[0m         \u001b[0;32mexcept\u001b[0m\u001b[0;34m:\u001b[0m  \u001b[0;31m# Including KeyboardInterrupt, wait handled that.\u001b[0m\u001b[0;34m\u001b[0m\u001b[0;34m\u001b[0m\u001b[0m\n\u001b[1;32m    353\u001b[0m             \u001b[0mp\u001b[0m\u001b[0;34m.\u001b[0m\u001b[0mkill\u001b[0m\u001b[0;34m(\u001b[0m\u001b[0;34m)\u001b[0m\u001b[0;34m\u001b[0m\u001b[0;34m\u001b[0m\u001b[0m\n",
      "\u001b[0;32m~/opt/anaconda3/lib/python3.9/subprocess.py\u001b[0m in \u001b[0;36mwait\u001b[0;34m(self, timeout)\u001b[0m\n\u001b[1;32m   1187\u001b[0m             \u001b[0mendtime\u001b[0m \u001b[0;34m=\u001b[0m \u001b[0m_time\u001b[0m\u001b[0;34m(\u001b[0m\u001b[0;34m)\u001b[0m \u001b[0;34m+\u001b[0m \u001b[0mtimeout\u001b[0m\u001b[0;34m\u001b[0m\u001b[0;34m\u001b[0m\u001b[0m\n\u001b[1;32m   1188\u001b[0m         \u001b[0;32mtry\u001b[0m\u001b[0;34m:\u001b[0m\u001b[0;34m\u001b[0m\u001b[0;34m\u001b[0m\u001b[0m\n\u001b[0;32m-> 1189\u001b[0;31m             \u001b[0;32mreturn\u001b[0m \u001b[0mself\u001b[0m\u001b[0;34m.\u001b[0m\u001b[0m_wait\u001b[0m\u001b[0;34m(\u001b[0m\u001b[0mtimeout\u001b[0m\u001b[0;34m=\u001b[0m\u001b[0mtimeout\u001b[0m\u001b[0;34m)\u001b[0m\u001b[0;34m\u001b[0m\u001b[0;34m\u001b[0m\u001b[0m\n\u001b[0m\u001b[1;32m   1190\u001b[0m         \u001b[0;32mexcept\u001b[0m \u001b[0mKeyboardInterrupt\u001b[0m\u001b[0;34m:\u001b[0m\u001b[0;34m\u001b[0m\u001b[0;34m\u001b[0m\u001b[0m\n\u001b[1;32m   1191\u001b[0m             \u001b[0;31m# https://bugs.python.org/issue25942\u001b[0m\u001b[0;34m\u001b[0m\u001b[0;34m\u001b[0m\u001b[0m\n",
      "\u001b[0;32m~/opt/anaconda3/lib/python3.9/subprocess.py\u001b[0m in \u001b[0;36m_wait\u001b[0;34m(self, timeout)\u001b[0m\n\u001b[1;32m   1915\u001b[0m                         \u001b[0;32mif\u001b[0m \u001b[0mself\u001b[0m\u001b[0;34m.\u001b[0m\u001b[0mreturncode\u001b[0m \u001b[0;32mis\u001b[0m \u001b[0;32mnot\u001b[0m \u001b[0;32mNone\u001b[0m\u001b[0;34m:\u001b[0m\u001b[0;34m\u001b[0m\u001b[0;34m\u001b[0m\u001b[0m\n\u001b[1;32m   1916\u001b[0m                             \u001b[0;32mbreak\u001b[0m  \u001b[0;31m# Another thread waited.\u001b[0m\u001b[0;34m\u001b[0m\u001b[0;34m\u001b[0m\u001b[0m\n\u001b[0;32m-> 1917\u001b[0;31m                         \u001b[0;34m(\u001b[0m\u001b[0mpid\u001b[0m\u001b[0;34m,\u001b[0m \u001b[0msts\u001b[0m\u001b[0;34m)\u001b[0m \u001b[0;34m=\u001b[0m \u001b[0mself\u001b[0m\u001b[0;34m.\u001b[0m\u001b[0m_try_wait\u001b[0m\u001b[0;34m(\u001b[0m\u001b[0;36m0\u001b[0m\u001b[0;34m)\u001b[0m\u001b[0;34m\u001b[0m\u001b[0;34m\u001b[0m\u001b[0m\n\u001b[0m\u001b[1;32m   1918\u001b[0m                         \u001b[0;31m# Check the pid and loop as waitpid has been known to\u001b[0m\u001b[0;34m\u001b[0m\u001b[0;34m\u001b[0m\u001b[0m\n\u001b[1;32m   1919\u001b[0m                         \u001b[0;31m# return 0 even without WNOHANG in odd situations.\u001b[0m\u001b[0;34m\u001b[0m\u001b[0;34m\u001b[0m\u001b[0m\n",
      "\u001b[0;32m~/opt/anaconda3/lib/python3.9/subprocess.py\u001b[0m in \u001b[0;36m_try_wait\u001b[0;34m(self, wait_flags)\u001b[0m\n\u001b[1;32m   1873\u001b[0m             \u001b[0;34m\"\"\"All callers to this function MUST hold self._waitpid_lock.\"\"\"\u001b[0m\u001b[0;34m\u001b[0m\u001b[0;34m\u001b[0m\u001b[0m\n\u001b[1;32m   1874\u001b[0m             \u001b[0;32mtry\u001b[0m\u001b[0;34m:\u001b[0m\u001b[0;34m\u001b[0m\u001b[0;34m\u001b[0m\u001b[0m\n\u001b[0;32m-> 1875\u001b[0;31m                 \u001b[0;34m(\u001b[0m\u001b[0mpid\u001b[0m\u001b[0;34m,\u001b[0m \u001b[0msts\u001b[0m\u001b[0;34m)\u001b[0m \u001b[0;34m=\u001b[0m \u001b[0mos\u001b[0m\u001b[0;34m.\u001b[0m\u001b[0mwaitpid\u001b[0m\u001b[0;34m(\u001b[0m\u001b[0mself\u001b[0m\u001b[0;34m.\u001b[0m\u001b[0mpid\u001b[0m\u001b[0;34m,\u001b[0m \u001b[0mwait_flags\u001b[0m\u001b[0;34m)\u001b[0m\u001b[0;34m\u001b[0m\u001b[0;34m\u001b[0m\u001b[0m\n\u001b[0m\u001b[1;32m   1876\u001b[0m             \u001b[0;32mexcept\u001b[0m \u001b[0mChildProcessError\u001b[0m\u001b[0;34m:\u001b[0m\u001b[0;34m\u001b[0m\u001b[0;34m\u001b[0m\u001b[0m\n\u001b[1;32m   1877\u001b[0m                 \u001b[0;31m# This happens if SIGCLD is set to be ignored or waiting\u001b[0m\u001b[0;34m\u001b[0m\u001b[0;34m\u001b[0m\u001b[0m\n",
      "\u001b[0;31mKeyboardInterrupt\u001b[0m: "
     ]
    }
   ],
   "source": [
    "dict_probabilities = compute_probabilities(samples, path=path)"
   ]
  },
  {
   "cell_type": "code",
   "execution_count": null,
   "id": "909df367-74e3-4ad8-9e39-0b1a201f1b02",
   "metadata": {},
   "outputs": [],
   "source": [
    "# Data moments \n",
    "\n",
    "# moment_0 = (Z_v_0f[:]/Z_v_0[0]).real\n",
    "# moment_1 = data_mom[:, 0]\n",
    "# moment_2 = data_mom[:, 1]\n",
    "# moment_3 = data_mom[:, 2]\n",
    "# moment_4 = data_mom[:, 3]\n",
    "\n",
    "# # Model moments\n",
    "\n",
    "# import scipy.stats as sts\n",
    "# import scipy.integrate as intgr\n",
    "# import scipy.optimize as opt\n",
    "\n",
    "# xfx = lambda x: x * moment_0 * gauss_fun(x, moment_1, moment_2)\n",
    "\n",
    "# xfx(1)\n",
    "# (mean_model, m_m_err) = intgr.quad(xfx, -np.inf, cutoff)\n",
    "# x2fx = lambda x: ((x - mean_model) ** 2) * trunc_norm_pdf(x, mu, sigma, cutoff) \n",
    "# (var_model, v_m_err) = intgr.quad(x2fx, -np.inf, cutoff)\n",
    "\n",
    "\n"
   ]
  },
  {
   "cell_type": "code",
   "execution_count": null,
   "id": "ac770e59-0a65-4b10-acce-18dca871a53f",
   "metadata": {},
   "outputs": [],
   "source": [
    "def count_samples(samples, samples_dictionary):\n",
    "    # we can't use np.unique() because it returns SORTED list\n",
    "    batch_size = len(samples)\n",
    "    n_unique = len(samples_dictionary.keys())\n",
    "    n_counts = [0]*n_unique\n",
    "\n",
    "    unique_samples = list(samples_dictionary.keys())\n",
    "\n",
    "\n",
    "    for i in range(batch_size):\n",
    "        s = convert_list_to_str(samples[i])\n",
    "        #(','.join(map(str, samples[i])).replace(',',''))\n",
    "        if s in unique_samples:\n",
    "            index =  unique_samples.index(s)\n",
    "            n_counts[index]+=1\n",
    "        else:\n",
    "            raise 'Incomplete list of unique samples in the dictionary'\n",
    "    return n_counts\n",
    "\n",
    "def get_result_df(samples, dict_prob, exact_prob = True):\n",
    "    \n",
    "    if exact_prob == True:\n",
    "        samples_dictionary = {\n",
    "            convert_list_to_str(s): [sum(s),  prob_exact(s, M) ] for s in samples\n",
    "        }\n",
    "\n",
    "        df_1 = (\n",
    "            pd.DataFrame\n",
    "            .from_dict(\n",
    "                samples_dictionary, \n",
    "                orient='index', \n",
    "                columns=[\"n_clicks\",\"probability_exact\"]\n",
    "            )\n",
    "        )\n",
    "\n",
    "        #df_1.index.name = \"sample\"\n",
    "\n",
    "        df_1[\"n_counts\"] = count_samples(samples, samples_dictionary)\n",
    "\n",
    "        df_2 = pd.DataFrame.from_dict(\n",
    "            dict_prob, \n",
    "            orient='index', \n",
    "            columns=[\"probability_approx_2\", \"probability_approx_3\", \"probability_approx_4\"]\n",
    "        )\n",
    "\n",
    "        #df_2.index.name = \"sample\"\n",
    "\n",
    "        df = pd.merge(df_1, df_2, on=df_1.index).set_index(\"key_0\")\n",
    "        df.index.name = \"sample\"\n",
    "        \n",
    "        return df\n",
    "    \n",
    "    else:\n",
    "        \n",
    "        samples_dictionary = {\n",
    "            convert_list_to_str(s): sum(s) for s in samples\n",
    "        }\n",
    "        \n",
    "        df_1 = (\n",
    "            pd.DataFrame\n",
    "            .from_dict(\n",
    "                samples_dictionary, \n",
    "                orient='index', \n",
    "                columns=[\"n_clicks\"]\n",
    "            )\n",
    "        )\n",
    "        \n",
    "        df_1[\"n_counts\"] = count_samples(samples, samples_dictionary)\n",
    "\n",
    "        df_2 = pd.DataFrame.from_dict(\n",
    "            dict_prob, \n",
    "            orient='index', \n",
    "            columns=[\"probability_approx_2\", \"probability_approx_3\", \"probability_approx_4\"]\n",
    "        )\n",
    "\n",
    "        #df_2.index.name = \"sample\"\n",
    "\n",
    "        df = pd.merge(df_1, df_2, on=df_1.index).set_index(\"key_0\")\n",
    "        df.index.name = \"sample\"\n",
    "        \n",
    "        return df\n",
    "        \n",
    "def get_dict_format(df):\n",
    "    dict_format = {}\n",
    "    for key in df.keys():\n",
    "        if \"probability\" in key: \n",
    "            dict_format[key] = \"{:.3e}\"\n",
    "            \n",
    "    return dict_format\n",
    "\n",
    "    \n",
    "    \n",
    "df = get_result_df(samples, dict_probabilities, exact_prob = True)\n",
    "dict_format = get_dict_format(df)   \n",
    "\n",
    "df.info()\n",
    "df.style.format(dict_format)\n",
    "#df.head(10)\n"
   ]
  },
  {
   "cell_type": "code",
   "execution_count": null,
   "id": "84bea380-bb0e-4189-aec6-3dbc1b723683",
   "metadata": {},
   "outputs": [],
   "source": [
    "df.to_csv(path + \"output/samples_probabilities.csv\") #export DataFrame"
   ]
  },
  {
   "cell_type": "code",
   "execution_count": null,
   "id": "dc99c444-4b67-4911-958a-47078ecb62e2",
   "metadata": {},
   "outputs": [],
   "source": []
  }
 ],
 "metadata": {
  "kernelspec": {
   "display_name": "Python 3 (ipykernel)",
   "language": "python",
   "name": "python3"
  },
  "language_info": {
   "codemirror_mode": {
    "name": "ipython",
    "version": 3
   },
   "file_extension": ".py",
   "mimetype": "text/x-python",
   "name": "python",
   "nbconvert_exporter": "python",
   "pygments_lexer": "ipython3",
   "version": "3.9.13"
  }
 },
 "nbformat": 4,
 "nbformat_minor": 5
}
